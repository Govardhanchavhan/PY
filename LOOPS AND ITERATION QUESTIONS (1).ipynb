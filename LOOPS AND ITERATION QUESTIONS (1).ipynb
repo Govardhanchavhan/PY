{
  "nbformat": 4,
  "nbformat_minor": 0,
  "metadata": {
    "colab": {
      "provenance": []
    },
    "kernelspec": {
      "name": "python3",
      "display_name": "Python 3"
    },
    "language_info": {
      "name": "python"
    }
  },
  "cells": [
    {
      "cell_type": "markdown",
      "source": [
        "#LOOPS AND ITERATIONS\n",
        "\n",
        "QUE :- 1. Print the first 10 natural number using a loop?\n"
      ],
      "metadata": {
        "id": "TiSBomqH2BzF"
      }
    },
    {
      "cell_type": "code",
      "execution_count": null,
      "metadata": {
        "colab": {
          "base_uri": "https://localhost:8080/"
        },
        "id": "a278RRsE2AYW",
        "outputId": "ebbfb46e-96f4-4ca1-dbfb-590d1e675b4b"
      },
      "outputs": [
        {
          "output_type": "stream",
          "name": "stdout",
          "text": [
            "1\n",
            "4\n",
            "9\n",
            "16\n",
            "25\n",
            "36\n",
            "49\n",
            "64\n",
            "81\n",
            "100\n"
          ]
        }
      ],
      "source": [
        "i = 1\n",
        "\n",
        "while i<=10:\n",
        "  print(i*i)\n",
        "  i += 1"
      ]
    },
    {
      "cell_type": "markdown",
      "source": [
        "QUE :- 2. Write a program to find the sum of the numbers from 1 to n?"
      ],
      "metadata": {
        "id": "rpyfXBhV2nmH"
      }
    },
    {
      "cell_type": "code",
      "source": [
        "n = int(input(\"Enter the number:\"))\n",
        "sum=0\n",
        "i =1\n",
        "while i<=n:\n",
        "  sum=sum+i\n",
        "  print(i)\n",
        "  i= i+1\n",
        "print(\"sum of the numbers:\", sum)"
      ],
      "metadata": {
        "colab": {
          "base_uri": "https://localhost:8080/"
        },
        "id": "EUQlx4V92fFO",
        "outputId": "efceb710-fe75-4ae9-dc54-33502a74a74a"
      },
      "execution_count": null,
      "outputs": [
        {
          "output_type": "stream",
          "name": "stdout",
          "text": [
            "Enter the number:15\n",
            "1\n",
            "2\n",
            "3\n",
            "4\n",
            "5\n",
            "6\n",
            "7\n",
            "8\n",
            "9\n",
            "10\n",
            "11\n",
            "12\n",
            "13\n",
            "14\n",
            "15\n",
            "sum of the numbers: 120\n"
          ]
        }
      ]
    },
    {
      "cell_type": "markdown",
      "source": [
        "QUE :- 3. Create a program to print all prime numbers between 1 and 100?"
      ],
      "metadata": {
        "id": "16HeFSr_3mC5"
      }
    },
    {
      "cell_type": "code",
      "source": [
        "i =2\n",
        "while i<= 100:\n",
        "  print(i)\n",
        "  i = i+2"
      ],
      "metadata": {
        "colab": {
          "base_uri": "https://localhost:8080/"
        },
        "id": "poBefMiT3ViG",
        "outputId": "dce09129-ef61-42c1-cef1-4bd45ffa22d6"
      },
      "execution_count": null,
      "outputs": [
        {
          "output_type": "stream",
          "name": "stdout",
          "text": [
            "2\n",
            "4\n",
            "6\n",
            "8\n",
            "10\n",
            "12\n",
            "14\n",
            "16\n",
            "18\n",
            "20\n",
            "22\n",
            "24\n",
            "26\n",
            "28\n",
            "30\n",
            "32\n",
            "34\n",
            "36\n",
            "38\n",
            "40\n",
            "42\n",
            "44\n",
            "46\n",
            "48\n",
            "50\n",
            "52\n",
            "54\n",
            "56\n",
            "58\n",
            "60\n",
            "62\n",
            "64\n",
            "66\n",
            "68\n",
            "70\n",
            "72\n",
            "74\n",
            "76\n",
            "78\n",
            "80\n",
            "82\n",
            "84\n",
            "86\n",
            "88\n",
            "90\n",
            "92\n",
            "94\n",
            "96\n",
            "98\n",
            "100\n"
          ]
        }
      ]
    },
    {
      "cell_type": "markdown",
      "source": [
        "QUE :- 4. Write a program to find the factorial of a number?"
      ],
      "metadata": {
        "id": "op_-uCYF5Ia9"
      }
    },
    {
      "cell_type": "code",
      "source": [
        "num= int(input(\"Enter a number :\"))\n",
        "fact =1\n",
        "for i in range (1,num+1):\n",
        "  fact = fact*i\n",
        "print(\"Factorial of\", num, \"is\", fact)"
      ],
      "metadata": {
        "colab": {
          "base_uri": "https://localhost:8080/"
        },
        "id": "uPglRtI_4sdD",
        "outputId": "6a5d0312-755d-4ad4-8bb4-238801718bbc"
      },
      "execution_count": null,
      "outputs": [
        {
          "output_type": "stream",
          "name": "stdout",
          "text": [
            "Enter a number :9\n",
            "Factorial of 9 is 362880\n"
          ]
        }
      ]
    },
    {
      "cell_type": "markdown",
      "source": [
        "QUE :- 5. Generate the fibonacci sequence up to n terms?"
      ],
      "metadata": {
        "id": "5wA363wJ6OBs"
      }
    },
    {
      "cell_type": "code",
      "source": [
        "first=0\n",
        "second=1\n",
        "print(first)\n",
        "print(second)\n",
        "N=int(input(\"Upto which terms:\"))\n",
        "\n",
        "for a in range (1,N):\n",
        "  third = first+second\n",
        "  print(third)\n",
        "  first,second =second,third"
      ],
      "metadata": {
        "colab": {
          "base_uri": "https://localhost:8080/"
        },
        "id": "acreM0f36AP3",
        "outputId": "655323d4-0ecf-41d2-d4ae-2ae270599568"
      },
      "execution_count": null,
      "outputs": [
        {
          "output_type": "stream",
          "name": "stdout",
          "text": [
            "0\n",
            "1\n",
            "Upto which terms:18\n",
            "1\n",
            "2\n",
            "3\n",
            "5\n",
            "8\n",
            "13\n",
            "21\n",
            "34\n",
            "55\n",
            "89\n",
            "144\n",
            "233\n",
            "377\n",
            "610\n",
            "987\n",
            "1597\n",
            "2584\n"
          ]
        }
      ]
    },
    {
      "cell_type": "markdown",
      "source": [
        "QUE :- 6. Print the multiplication table of numbers from 1 to 10 using nested loops?"
      ],
      "metadata": {
        "id": "RX2mS5oY7WZi"
      }
    },
    {
      "cell_type": "code",
      "source": [
        "for i in range(1, 10):\n",
        "  for j in range(1, 11):\n",
        "    print('{0}*{1} = {2}'. format(i, j, (i*j)))\n",
        "    print('=======================')"
      ],
      "metadata": {
        "colab": {
          "base_uri": "https://localhost:8080/"
        },
        "id": "xoOX2AvG9Sva",
        "outputId": "cb94c3a2-fa3d-4bf8-84de-8b8d082c96df"
      },
      "execution_count": null,
      "outputs": [
        {
          "output_type": "stream",
          "name": "stdout",
          "text": [
            "1*1 = 1\n",
            "=======================\n",
            "1*2 = 2\n",
            "=======================\n",
            "1*3 = 3\n",
            "=======================\n",
            "1*4 = 4\n",
            "=======================\n",
            "1*5 = 5\n",
            "=======================\n",
            "1*6 = 6\n",
            "=======================\n",
            "1*7 = 7\n",
            "=======================\n",
            "1*8 = 8\n",
            "=======================\n",
            "1*9 = 9\n",
            "=======================\n",
            "1*10 = 10\n",
            "=======================\n",
            "2*1 = 2\n",
            "=======================\n",
            "2*2 = 4\n",
            "=======================\n",
            "2*3 = 6\n",
            "=======================\n",
            "2*4 = 8\n",
            "=======================\n",
            "2*5 = 10\n",
            "=======================\n",
            "2*6 = 12\n",
            "=======================\n",
            "2*7 = 14\n",
            "=======================\n",
            "2*8 = 16\n",
            "=======================\n",
            "2*9 = 18\n",
            "=======================\n",
            "2*10 = 20\n",
            "=======================\n",
            "3*1 = 3\n",
            "=======================\n",
            "3*2 = 6\n",
            "=======================\n",
            "3*3 = 9\n",
            "=======================\n",
            "3*4 = 12\n",
            "=======================\n",
            "3*5 = 15\n",
            "=======================\n",
            "3*6 = 18\n",
            "=======================\n",
            "3*7 = 21\n",
            "=======================\n",
            "3*8 = 24\n",
            "=======================\n",
            "3*9 = 27\n",
            "=======================\n",
            "3*10 = 30\n",
            "=======================\n",
            "4*1 = 4\n",
            "=======================\n",
            "4*2 = 8\n",
            "=======================\n",
            "4*3 = 12\n",
            "=======================\n",
            "4*4 = 16\n",
            "=======================\n",
            "4*5 = 20\n",
            "=======================\n",
            "4*6 = 24\n",
            "=======================\n",
            "4*7 = 28\n",
            "=======================\n",
            "4*8 = 32\n",
            "=======================\n",
            "4*9 = 36\n",
            "=======================\n",
            "4*10 = 40\n",
            "=======================\n",
            "5*1 = 5\n",
            "=======================\n",
            "5*2 = 10\n",
            "=======================\n",
            "5*3 = 15\n",
            "=======================\n",
            "5*4 = 20\n",
            "=======================\n",
            "5*5 = 25\n",
            "=======================\n",
            "5*6 = 30\n",
            "=======================\n",
            "5*7 = 35\n",
            "=======================\n",
            "5*8 = 40\n",
            "=======================\n",
            "5*9 = 45\n",
            "=======================\n",
            "5*10 = 50\n",
            "=======================\n",
            "6*1 = 6\n",
            "=======================\n",
            "6*2 = 12\n",
            "=======================\n",
            "6*3 = 18\n",
            "=======================\n",
            "6*4 = 24\n",
            "=======================\n",
            "6*5 = 30\n",
            "=======================\n",
            "6*6 = 36\n",
            "=======================\n",
            "6*7 = 42\n",
            "=======================\n",
            "6*8 = 48\n",
            "=======================\n",
            "6*9 = 54\n",
            "=======================\n",
            "6*10 = 60\n",
            "=======================\n",
            "7*1 = 7\n",
            "=======================\n",
            "7*2 = 14\n",
            "=======================\n",
            "7*3 = 21\n",
            "=======================\n",
            "7*4 = 28\n",
            "=======================\n",
            "7*5 = 35\n",
            "=======================\n",
            "7*6 = 42\n",
            "=======================\n",
            "7*7 = 49\n",
            "=======================\n",
            "7*8 = 56\n",
            "=======================\n",
            "7*9 = 63\n",
            "=======================\n",
            "7*10 = 70\n",
            "=======================\n",
            "8*1 = 8\n",
            "=======================\n",
            "8*2 = 16\n",
            "=======================\n",
            "8*3 = 24\n",
            "=======================\n",
            "8*4 = 32\n",
            "=======================\n",
            "8*5 = 40\n",
            "=======================\n",
            "8*6 = 48\n",
            "=======================\n",
            "8*7 = 56\n",
            "=======================\n",
            "8*8 = 64\n",
            "=======================\n",
            "8*9 = 72\n",
            "=======================\n",
            "8*10 = 80\n",
            "=======================\n",
            "9*1 = 9\n",
            "=======================\n",
            "9*2 = 18\n",
            "=======================\n",
            "9*3 = 27\n",
            "=======================\n",
            "9*4 = 36\n",
            "=======================\n",
            "9*5 = 45\n",
            "=======================\n",
            "9*6 = 54\n",
            "=======================\n",
            "9*7 = 63\n",
            "=======================\n",
            "9*8 = 72\n",
            "=======================\n",
            "9*9 = 81\n",
            "=======================\n",
            "9*10 = 90\n",
            "=======================\n"
          ]
        }
      ]
    },
    {
      "cell_type": "markdown",
      "source": [
        "QUE :- 7. Write a program to check if a number is a palindrome?"
      ],
      "metadata": {
        "id": "F9BR7yARAN2-"
      }
    },
    {
      "cell_type": "code",
      "source": [
        "n=int(input(\"Enter number:\"))\n",
        "temp=n\n",
        "rev=0\n",
        "while(n>0):\n",
        "  dig =n%10  #digit\n",
        "  rev=(rev*10)+dig\n",
        "if (temp==rev):\n",
        "  print(\"The number is a palindrome\")\n",
        "else:\n",
        "        print(\"The number is not a palindrome\")"
      ],
      "metadata": {
        "colab": {
          "base_uri": "https://localhost:8080/"
        },
        "id": "-mX8RsaICVNR",
        "outputId": "a315f2ce-cddd-46f3-9529-e3d8fdf9821e"
      },
      "execution_count": null,
      "outputs": [
        {
          "name": "stdout",
          "output_type": "stream",
          "text": [
            "Enter number:232\n"
          ]
        }
      ]
    },
    {
      "cell_type": "markdown",
      "source": [
        "QUE :- 8. Calculate the sum of the digits of a number?\n"
      ],
      "metadata": {
        "id": "JdxvQa2cHTPI"
      }
    },
    {
      "cell_type": "code",
      "source": [
        "number= int(input(\"Please enter any number:\"))\n",
        "sum=0\n",
        "\n",
        "while(number>0):\n",
        "  remainder = number%10\n",
        "  sum = sum+remainder\n",
        "  number= number//10\n",
        "\n",
        "print(\"\\n sum of the digits of given number= %d\"%sum)"
      ],
      "metadata": {
        "colab": {
          "base_uri": "https://localhost:8080/"
        },
        "id": "X3Pvafp_HfQb",
        "outputId": "6f7a68ce-f21b-47f7-9a60-859494644eb1"
      },
      "execution_count": 2,
      "outputs": [
        {
          "output_type": "stream",
          "name": "stdout",
          "text": [
            "Please enter any number:4568\n",
            "\n",
            " sum of the digits of given number= 23\n"
          ]
        }
      ]
    },
    {
      "cell_type": "markdown",
      "source": [
        "QUE :- 9. Find the whether a number is an Armstrong number?\n"
      ],
      "metadata": {
        "id": "Hw2KIf6vIncS"
      }
    },
    {
      "cell_type": "code",
      "source": [
        "n=int(input(\"enter the number:\"))\n",
        "num=n\n",
        "s=0\n",
        "while n>0:\n",
        "  r =n%10\n",
        "  s =s+r*r*r\n",
        "  n=n//10\n",
        "if s==num:\n",
        "  print(num, \"is armstrong\")\n",
        "else:\n",
        "  print(num, \"is not armstrong\")"
      ],
      "metadata": {
        "id": "eYe9ScbZDF6h",
        "colab": {
          "base_uri": "https://localhost:8080/"
        },
        "outputId": "571fa0f1-e0ba-476a-d26c-1cb2566c427e"
      },
      "execution_count": 3,
      "outputs": [
        {
          "output_type": "stream",
          "name": "stdout",
          "text": [
            "enter the number:407\n",
            "407 is armstrong\n"
          ]
        }
      ]
    },
    {
      "cell_type": "markdown",
      "source": [
        "QUE :- 10. Write a program to count the number of digits in a given number?\n"
      ],
      "metadata": {
        "id": "MKBMOy5wJ8Sg"
      }
    },
    {
      "cell_type": "code",
      "source": [
        "num= 78956\n",
        "count =0\n",
        "\n",
        "while num >0:\n",
        "  num//=10\n",
        "  count +=1\n",
        "print(\"Number of digits:\" + str(count))"
      ],
      "metadata": {
        "colab": {
          "base_uri": "https://localhost:8080/"
        },
        "id": "rlU19gg3Jg9g",
        "outputId": "13c7f3b2-7eab-4dc6-ded5-fdee03faa2f1"
      },
      "execution_count": 11,
      "outputs": [
        {
          "output_type": "stream",
          "name": "stdout",
          "text": [
            "Number of digits:5\n"
          ]
        }
      ]
    },
    {
      "cell_type": "code",
      "source": [
        ""
      ],
      "metadata": {
        "id": "xDt9Q7S_Kslu"
      },
      "execution_count": null,
      "outputs": []
    }
  ]
}