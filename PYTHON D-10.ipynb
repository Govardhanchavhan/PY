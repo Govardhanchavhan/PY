{
  "nbformat": 4,
  "nbformat_minor": 0,
  "metadata": {
    "colab": {
      "provenance": []
    },
    "kernelspec": {
      "name": "python3",
      "display_name": "Python 3"
    },
    "language_info": {
      "name": "python"
    }
  },
  "cells": [
    {
      "cell_type": "markdown",
      "source": [
        "*#conditional statements. *\n",
        "**QUE :- 1. Write a program to check if a number is positive, negative or zero.**"
      ],
      "metadata": {
        "id": "xrbyCFJofS8W"
      }
    },
    {
      "cell_type": "code",
      "source": [
        "num =int (input(\"Enter the number:\"))\n",
        "if num>0:\n",
        "  print(\"Number is positive\")\n",
        "if num<0:\n",
        "  print(\"Number is negative\")\n",
        "if num ==0:\n",
        "  print(\"Number is zero\")"
      ],
      "metadata": {
        "colab": {
          "base_uri": "https://localhost:8080/"
        },
        "id": "ewAF4drDftJj",
        "outputId": "f9226799-6ebc-4158-8f44-41913adb4a13"
      },
      "execution_count": 2,
      "outputs": [
        {
          "output_type": "stream",
          "name": "stdout",
          "text": [
            "Enter the number:-0\n",
            "Number is zero\n"
          ]
        }
      ]
    },
    {
      "cell_type": "markdown",
      "source": [
        "**QUE :- 2 Create a program to find whether a year is a leap year.**"
      ],
      "metadata": {
        "id": "2OSn9SHRhZfG"
      }
    },
    {
      "cell_type": "code",
      "source": [
        "year = int (input(\"Enter the year:\"))\n",
        "if year%4 ==0:\n",
        "  print(\"It is a leap year\")\n",
        "else:\n",
        "  print(\"It is a not a leap year\")"
      ],
      "metadata": {
        "colab": {
          "base_uri": "https://localhost:8080/"
        },
        "id": "0U_kdoyLhIZQ",
        "outputId": "e40887f9-3493-4281-ffdf-29dd6c3a52ea"
      },
      "execution_count": 3,
      "outputs": [
        {
          "output_type": "stream",
          "name": "stdout",
          "text": [
            "Enter the year:2004\n",
            "It is a leap year\n"
          ]
        }
      ]
    },
    {
      "cell_type": "markdown",
      "source": [
        "**QUE :- 3. Check if a character is a vowel or consonant.**"
      ],
      "metadata": {
        "id": "IGh_hDtMiaKf"
      }
    },
    {
      "cell_type": "code",
      "source": [
        "let = ('A','E','I','O','U')\n",
        "char = input ('Enter the letter')\n",
        "if char.upper() in let:\n",
        "  print('Vowel letter')\n",
        "else:\n",
        "  print('Consonant letter')"
      ],
      "metadata": {
        "colab": {
          "base_uri": "https://localhost:8080/"
        },
        "id": "1uk7rc3iiS1i",
        "outputId": "0bf1d597-d9ec-4590-a8b0-d3dba151e06f"
      },
      "execution_count": 8,
      "outputs": [
        {
          "output_type": "stream",
          "name": "stdout",
          "text": [
            "Enter the letter    j\n",
            "Consonant letter\n"
          ]
        }
      ]
    },
    {
      "cell_type": "markdown",
      "source": [
        "**QUE :- 4. Take a number input and check if it is divisible by 5 and 7.**"
      ],
      "metadata": {
        "id": "NRy7UuvDjyO5"
      }
    },
    {
      "cell_type": "code",
      "source": [
        "a = int(input(\"Enter the number :\"))\n",
        "if a %5==0:\n",
        "  print('It is  divisible by 5')\n",
        "else:\n",
        "  print('It is not divisible by 5')\n",
        ""
      ],
      "metadata": {
        "colab": {
          "base_uri": "https://localhost:8080/"
        },
        "id": "xcLY0BWFjeqg",
        "outputId": "36a8a47a-5a3f-479a-8767-9ff42dca85b1"
      },
      "execution_count": 25,
      "outputs": [
        {
          "output_type": "stream",
          "name": "stdout",
          "text": [
            "Enter the number :789\n",
            "It is not divisible by 5\n"
          ]
        }
      ]
    },
    {
      "cell_type": "code",
      "source": [
        "b = int(input(\"Enter the number:\"))\n",
        "if b %7==0:\n",
        "  print('It is divisible by 7')\n",
        "else:\n",
        "  print('It is not divisible by 7')"
      ],
      "metadata": {
        "colab": {
          "base_uri": "https://localhost:8080/"
        },
        "id": "1W3WTSIBllv_",
        "outputId": "8f8a4eb5-2ec9-4368-ca01-3c09c59ddb52"
      },
      "execution_count": 26,
      "outputs": [
        {
          "output_type": "stream",
          "name": "stdout",
          "text": [
            "Enter the number:567\n",
            "It is divisible by 7\n"
          ]
        }
      ]
    },
    {
      "cell_type": "markdown",
      "source": [
        "**QUE :- 5.Write a program to find the largest of three numbers using nested if.**"
      ],
      "metadata": {
        "id": "IBJrqNh_m8Uw"
      }
    },
    {
      "cell_type": "code",
      "source": [
        "a = 00\n",
        "b = 100\n",
        "c = 280\n",
        "if a>b:\n",
        "  if a>c:\n",
        "    print(\"a is greater\")\n",
        "  else:\n",
        "    print(\"c is greater\")\n",
        "else:\n",
        "  if b>c:\n",
        "    print(\"b is greater\")\n",
        "  else:\n",
        "    print(\"c is greater\")\n"
      ],
      "metadata": {
        "colab": {
          "base_uri": "https://localhost:8080/"
        },
        "id": "rLDw3_kom3I1",
        "outputId": "7d3b8dc6-3ba7-4fcf-ad05-b8ae93465fe4"
      },
      "execution_count": 29,
      "outputs": [
        {
          "output_type": "stream",
          "name": "stdout",
          "text": [
            "c is greater\n"
          ]
        }
      ]
    },
    {
      "cell_type": "markdown",
      "source": [
        "**QUE:- 6. Create a grading system based on marks.**"
      ],
      "metadata": {
        "id": "iJzFO-YmoqWj"
      }
    },
    {
      "cell_type": "code",
      "source": [
        "marks = int(input(\"Enter your marks \"))\n",
        "\n",
        "if marks>= 90:\n",
        "  print(\"A you are great \")\n",
        "\n",
        "elif marks>=80 & 70:\n",
        "  print(\"B you are pass \")\n",
        "\n",
        "elif marks>=60:\n",
        "  print(\"D you are fail\")"
      ],
      "metadata": {
        "colab": {
          "base_uri": "https://localhost:8080/"
        },
        "id": "29nTDaGOoz7J",
        "outputId": "32d5fc36-e70c-4703-b59f-513c486274eb"
      },
      "execution_count": 32,
      "outputs": [
        {
          "output_type": "stream",
          "name": "stdout",
          "text": [
            "Enter your marks 89\n",
            "B you are pass \n"
          ]
        }
      ]
    },
    {
      "cell_type": "code",
      "source": [
        "marks = int(input(\"Enter your marks \"))\n",
        "\n",
        "if marks>= 90:\n",
        "  print(\"A you are great \")\n",
        "\n",
        "elif marks>=80 & 70:\n",
        "  print(\"B you are pass \")\n",
        "\n",
        "elif marks>=60:\n",
        "  print(\"D you are fail\")"
      ],
      "metadata": {
        "colab": {
          "base_uri": "https://localhost:8080/"
        },
        "id": "KF5R5HQZoZ26",
        "outputId": "f4943da4-b732-428c-ed80-4a3f13c03ff9"
      },
      "execution_count": 33,
      "outputs": [
        {
          "output_type": "stream",
          "name": "stdout",
          "text": [
            "Enter your marks 91\n",
            "A you are great \n"
          ]
        }
      ]
    },
    {
      "cell_type": "markdown",
      "source": [
        "**QUE :- 7. Write a program to find whether a character is uppercase or lowercase.**"
      ],
      "metadata": {
        "id": "OnwMxp8VqZPg"
      }
    },
    {
      "cell_type": "code",
      "source": [
        "char = input(\"Enter a single character\")\n",
        "if char>='A' and char<='Z':\n",
        "  print(\"You entered an uppercase character\")\n",
        "elif char>='a' and 'z':\n",
        "  print(\"You entered an lowercase character\")\n",
        ""
      ],
      "metadata": {
        "colab": {
          "base_uri": "https://localhost:8080/"
        },
        "id": "3B_RZlkkqVSC",
        "outputId": "9209756c-636a-4d9a-c6cd-8ca42254677f"
      },
      "execution_count": 38,
      "outputs": [
        {
          "output_type": "stream",
          "name": "stdout",
          "text": [
            "Enter a single charactero\n",
            "You entered an lowercase character\n"
          ]
        }
      ]
    },
    {
      "cell_type": "markdown",
      "source": [
        "**QUE :- 8. Check if string starts with a specific word.**"
      ],
      "metadata": {
        "id": "C8Sc6czbsEvY"
      }
    },
    {
      "cell_type": "code",
      "source": [
        "str = input(\"Enter a string:\")\n",
        "if str == str [::-1]:\n",
        "  print(\"String is word\")\n",
        "else:\n",
        "  print(\"String is not word\")"
      ],
      "metadata": {
        "colab": {
          "base_uri": "https://localhost:8080/"
        },
        "id": "8gBIZcvEr2L0",
        "outputId": "e69c1f6c-f9fc-4b47-8200-41001ee1e711"
      },
      "execution_count": 41,
      "outputs": [
        {
          "output_type": "stream",
          "name": "stdout",
          "text": [
            "Enter a string:madam\n",
            "String is word\n"
          ]
        }
      ]
    },
    {
      "cell_type": "markdown",
      "source": [
        "**QUE :- 9. Take two number as input and check if their sum is gretar than 100**."
      ],
      "metadata": {
        "id": "ImNVhVOit3Uh"
      }
    },
    {
      "cell_type": "code",
      "source": [
        "x = int (input(\"enter the value of x:\"))\n",
        "y = int (input(\"enter the value of y:\"))\n",
        "\n",
        "if x>y and y>x:\n",
        "\n",
        "  print(x,\"is greter value\")\n",
        "else:\n",
        "  print(y,\"is greter value\")\n"
      ],
      "metadata": {
        "colab": {
          "base_uri": "https://localhost:8080/"
        },
        "id": "ZSurbl56u6IO",
        "outputId": "dc8d3e0b-79c7-4e09-b487-b1bdcc9e4de0"
      },
      "execution_count": 46,
      "outputs": [
        {
          "output_type": "stream",
          "name": "stdout",
          "text": [
            "enter the value of x:78\n",
            "enter the value of y:45\n",
            "45 is greter value\n"
          ]
        }
      ]
    },
    {
      "cell_type": "markdown",
      "source": [
        "**QUE :- 10. Write a program to determine if a triangle is valid based on its sides.**"
      ],
      "metadata": {
        "id": "L0MQlJCDwSp2"
      }
    },
    {
      "cell_type": "code",
      "source": [
        "a = int(input(\"Enter the length of the first side:\"))\n",
        "b = int(input(\"Enter the length of the second side:\"))\n",
        "c = int(input(\"Enter the length of the third side:\"))\n",
        "\n",
        "if (a+b>c and a+c>b and b+c>a ):\n",
        "  print(\"this forms a triangle\")\n",
        "else:\n",
        "   print(\"this doesn't forms a triangle\")"
      ],
      "metadata": {
        "colab": {
          "base_uri": "https://localhost:8080/"
        },
        "id": "Xo541JsyvsmX",
        "outputId": "38ccd0b7-3117-4e16-9d70-0ff13fa89bff"
      },
      "execution_count": 53,
      "outputs": [
        {
          "output_type": "stream",
          "name": "stdout",
          "text": [
            "Enter the length of the first side:5\n",
            "Enter the length of the second side:6\n",
            "Enter the length of the third side:2\n",
            "this forms a triangle\n"
          ]
        }
      ]
    },
    {
      "cell_type": "code",
      "source": [],
      "metadata": {
        "id": "j1ltuKU7x2sF"
      },
      "execution_count": 53,
      "outputs": []
    }
  ]
}