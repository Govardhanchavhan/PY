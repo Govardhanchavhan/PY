{
  "nbformat": 4,
  "nbformat_minor": 0,
  "metadata": {
    "colab": {
      "provenance": []
    },
    "kernelspec": {
      "name": "python3",
      "display_name": "Python 3"
    },
    "language_info": {
      "name": "python"
    }
  },
  "cells": [
    {
      "cell_type": "markdown",
      "source": [
        "#LISTS\n",
        "QUE :- 1. Create a list of numbers and find their sum?\n"
      ],
      "metadata": {
        "id": "0hgIZ9_to3Kp"
      }
    },
    {
      "cell_type": "code",
      "execution_count": 1,
      "metadata": {
        "colab": {
          "base_uri": "https://localhost:8080/"
        },
        "id": "S8CMmnnXozqf",
        "outputId": "2198f3e7-8402-47bc-81ee-7dd3998d2f20"
      },
      "outputs": [
        {
          "output_type": "stream",
          "name": "stdout",
          "text": [
            "15\n"
          ]
        }
      ],
      "source": [
        "num= [1,2,3,4,5]\n",
        "sum_of_num = sum(num)\n",
        "print(sum_of_num)"
      ]
    },
    {
      "cell_type": "markdown",
      "source": [
        "QUE :- 2. Write a program to find the largest number in a list?\n"
      ],
      "metadata": {
        "id": "W7KixBW7pmIy"
      }
    },
    {
      "cell_type": "code",
      "source": [
        "number = [0,2,3,6,5,7,98,45,6700,9218,9,1]\n",
        "largest_number = number[0]\n",
        "for i in range(len(numbers)):\n",
        "  if number[i] > largest_number:\n",
        "    largest_number = number[i]\n",
        "print(f\"The largest number in the list is 9218\")"
      ],
      "metadata": {
        "colab": {
          "base_uri": "https://localhost:8080/"
        },
        "id": "nqbjKgH_pgW1",
        "outputId": "38eb4666-d3c6-4e74-f2f2-c6ae4389ab28"
      },
      "execution_count": 8,
      "outputs": [
        {
          "output_type": "stream",
          "name": "stdout",
          "text": [
            "The largest number in the list is 9218\n"
          ]
        }
      ]
    },
    {
      "cell_type": "markdown",
      "source": [
        "QUE :- 3. Find the second largest number in a list?"
      ],
      "metadata": {
        "id": "9AsAky7ErWy8"
      }
    },
    {
      "cell_type": "code",
      "source": [
        "my_list =[6,8,3,210,30,40,70]\n",
        "my_list.sort()\n",
        "\n",
        "print(f\"second largest element-{my_list[2]}\")"
      ],
      "metadata": {
        "colab": {
          "base_uri": "https://localhost:8080/"
        },
        "id": "yu6Czb1TqyDK",
        "outputId": "fb4ca1d5-3f43-4c0c-a4b3-dc928dbab911"
      },
      "execution_count": 12,
      "outputs": [
        {
          "output_type": "stream",
          "name": "stdout",
          "text": [
            "second largest element-8\n"
          ]
        }
      ]
    },
    {
      "cell_type": "markdown",
      "source": [
        "QUE :- 4. Remove duplicates from a list?\n"
      ],
      "metadata": {
        "id": "-mJ4-ooqsdnj"
      }
    },
    {
      "cell_type": "code",
      "source": [
        "a =[10,20,50,70,50,60,90,50,30,50,20,50,10,90]\n",
        "dup_items = set()\n",
        "uniq_items =[]\n",
        "for x in a:\n",
        "  if x not in dup_items:\n",
        "    uniq_items.append(x)\n",
        "    dup_items.add(x)\n",
        "print(dup_items)"
      ],
      "metadata": {
        "colab": {
          "base_uri": "https://localhost:8080/"
        },
        "id": "3jmtSMPssRyA",
        "outputId": "c8356531-34be-4d74-8db4-55f14a8fd072"
      },
      "execution_count": 13,
      "outputs": [
        {
          "output_type": "stream",
          "name": "stdout",
          "text": [
            "{70, 10, 50, 20, 90, 60, 30}\n"
          ]
        }
      ]
    },
    {
      "cell_type": "markdown",
      "source": [
        "QUE :- 5. Write a program to count the occurences of a specific element in a list?"
      ],
      "metadata": {
        "id": "Un8V4NUXt0Pj"
      }
    },
    {
      "cell_type": "code",
      "source": [
        "list1 = [23,13,78,45,13,67,13,56]\n",
        "count = dict()\n",
        "\n",
        "for i in list1:\n",
        "  if i in count:\n",
        "    count[i]+=1\n",
        "  else:\n",
        "    count[i]=1\n",
        "\n",
        "print(count)"
      ],
      "metadata": {
        "colab": {
          "base_uri": "https://localhost:8080/"
        },
        "id": "ByZmzG9Dtrjt",
        "outputId": "532fc534-7212-4058-b5bc-0840c44b3494"
      },
      "execution_count": 15,
      "outputs": [
        {
          "output_type": "stream",
          "name": "stdout",
          "text": [
            "{23: 1, 13: 3, 78: 1, 45: 1, 67: 1, 56: 1}\n"
          ]
        }
      ]
    },
    {
      "cell_type": "markdown",
      "source": [
        "QUE :- 6. Sort a list without using the built-in sort()method?"
      ],
      "metadata": {
        "id": "vdSRvZmKwU7V"
      }
    },
    {
      "cell_type": "code",
      "source": [
        "a =[1,2,4,5,7]\n",
        "print(\"Original List:\", a)\n",
        "for i in range (0,len(a)):\n",
        "  for j in range(i, len(a)):\n",
        "    if a[i] >= a[j]:\n",
        "      temp = a[i]\n",
        "      a[i] = a[j]\n",
        "      a[j] = temp\n",
        "print(\"Sorted List:\", a)"
      ],
      "metadata": {
        "colab": {
          "base_uri": "https://localhost:8080/"
        },
        "id": "2sNeXzMFwGiT",
        "outputId": "9a88d925-18b6-44f9-f020-23c20081bc8c"
      },
      "execution_count": 16,
      "outputs": [
        {
          "output_type": "stream",
          "name": "stdout",
          "text": [
            "Original List: [1, 2, 4, 5, 7]\n",
            "Sorted List: [1, 2, 4, 5, 7]\n"
          ]
        }
      ]
    },
    {
      "cell_type": "markdown",
      "source": [
        "QUE :- 7. Reverse a list without using the built-in reverse() method?"
      ],
      "metadata": {
        "id": "6uUpsKN9xjUQ"
      }
    },
    {
      "cell_type": "code",
      "source": [
        "\n",
        "l=list(map(int, input().split()))\n",
        "for i in l[:: -1]:\n",
        "  print(i, end=\"  \")"
      ],
      "metadata": {
        "colab": {
          "base_uri": "https://localhost:8080/"
        },
        "id": "kh7w8jVkxbK2",
        "outputId": "7447c81f-1423-46ac-bc2e-66d5fd5d0ad4"
      },
      "execution_count": 21,
      "outputs": [
        {
          "output_type": "stream",
          "name": "stdout",
          "text": [
            "56  78  34  12  98\n",
            "98  12  34  78  56  "
          ]
        }
      ]
    },
    {
      "cell_type": "markdown",
      "source": [
        "QUE :- 8. Create a program to merge two list and sort them?"
      ],
      "metadata": {
        "id": "vCz44QXqywz1"
      }
    },
    {
      "cell_type": "code",
      "source": [
        "list1 = [1,2,3]\n",
        "list2 = [4,5,6]\n",
        "list3 = list1 + list2\n",
        "print(list3)"
      ],
      "metadata": {
        "colab": {
          "base_uri": "https://localhost:8080/"
        },
        "id": "aNBUQSecyJ6H",
        "outputId": "8315522b-20cc-4c12-e65c-20d35f7530c1"
      },
      "execution_count": 22,
      "outputs": [
        {
          "output_type": "stream",
          "name": "stdout",
          "text": [
            "[1, 2, 3, 4, 5, 6]\n"
          ]
        }
      ]
    },
    {
      "cell_type": "markdown",
      "source": [
        "QUE :- 9. Find the intersection of two lists?"
      ],
      "metadata": {
        "id": "-g3rkbuEzUqF"
      }
    },
    {
      "cell_type": "code",
      "source": [
        "a = eval(input('List 1:'))\n",
        "b = eval(input('List 2:'))\n",
        "c =[]\n",
        "\n",
        "for i in a:\n",
        "  for j in b:\n",
        "    if i==j:\n",
        "      c.append(i)\n",
        "print('COMMON ELELMENTS:')\n",
        "print(c)"
      ],
      "metadata": {
        "colab": {
          "base_uri": "https://localhost:8080/"
        },
        "id": "KXvo_RiYzSH7",
        "outputId": "66e20acf-a3ca-45ab-ab69-2c483f2bb052"
      },
      "execution_count": 28,
      "outputs": [
        {
          "output_type": "stream",
          "name": "stdout",
          "text": [
            "List 1:[1,2,3,4,5]\n",
            "List 2:[5,6,7,8,9]\n",
            "COMMON ELELMENTS:\n",
            "[5]\n"
          ]
        }
      ]
    },
    {
      "cell_type": "markdown",
      "source": [
        "QUE :- 10. Check if a list is a palindrome?"
      ],
      "metadata": {
        "id": "xHYIKBn50nck"
      }
    },
    {
      "cell_type": "code",
      "source": [
        "def palindrome(list):\n",
        "  return list == list[: : -1]\n",
        "\n",
        "\n",
        "nums = [1,2,3,4,5,5,8,9]\n",
        "print(\"Original list is :\", list)\n",
        "print(\"Check that it is palindrome or not?\")\n",
        "print(palindrome(nums))\n",
        "\n",
        "color = [\"Red\", \"Orange\",\"Green\"]\n",
        "print(\"Original list is :\", color)\n",
        "print(\"Check that it is palindrome or not?\")\n",
        "print(palindrome(color))"
      ],
      "metadata": {
        "colab": {
          "base_uri": "https://localhost:8080/"
        },
        "id": "1DG3L-ac0ENY",
        "outputId": "5bc98d27-77bc-493b-8988-496bf04dd6e3"
      },
      "execution_count": 29,
      "outputs": [
        {
          "output_type": "stream",
          "name": "stdout",
          "text": [
            "Original list is : <class 'list'>\n",
            "Check that it is palindrome or not?\n",
            "False\n",
            "Original list is : ['Red', 'Orange', 'Green']\n",
            "Check that it is palindrome or not?\n",
            "False\n"
          ]
        }
      ]
    },
    {
      "cell_type": "code",
      "source": [],
      "metadata": {
        "id": "vLlGn8ow1wMa"
      },
      "execution_count": null,
      "outputs": []
    }
  ]
}