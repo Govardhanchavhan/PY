{
  "nbformat": 4,
  "nbformat_minor": 0,
  "metadata": {
    "colab": {
      "provenance": []
    },
    "kernelspec": {
      "name": "python3",
      "display_name": "Python 3"
    },
    "language_info": {
      "name": "python"
    }
  },
  "cells": [
    {
      "cell_type": "markdown",
      "source": [
        "#stars Pattern\n",
        "QUE :- 1. Print a right angled triangle of stars?"
      ],
      "metadata": {
        "id": "2v3-NQE2JJXq"
      }
    },
    {
      "cell_type": "code",
      "execution_count": null,
      "metadata": {
        "colab": {
          "base_uri": "https://localhost:8080/"
        },
        "id": "P_FbRPsVJEEW",
        "outputId": "53521611-f643-403c-f3ab-bc4edd543c81"
      },
      "outputs": [
        {
          "output_type": "stream",
          "name": "stdout",
          "text": [
            "*\n",
            "**\n",
            "***\n",
            "****\n",
            "*****\n"
          ]
        }
      ],
      "source": [
        "size = 5\n",
        "for i in range (size):\n",
        "  for j in range (1, size-i):\n",
        "    print(\"\", end=\"\")\n",
        "  for k in range (0,i+1):\n",
        "    print(\"*\",end=\"\")\n",
        "  print()"
      ]
    },
    {
      "cell_type": "markdown",
      "source": [
        "QUE :- 2. Print an inverted right angled triangle of stars?\n"
      ],
      "metadata": {
        "id": "fpY9q2vbKgY9"
      }
    },
    {
      "cell_type": "code",
      "source": [
        "i = 5\n",
        "while i>= 0:\n",
        "  print(i*\"*\")\n",
        "  i=i-1"
      ],
      "metadata": {
        "colab": {
          "base_uri": "https://localhost:8080/"
        },
        "id": "Cr5mapzBKKaT",
        "outputId": "1741740b-e22e-4fce-e69c-16485af007c7"
      },
      "execution_count": null,
      "outputs": [
        {
          "output_type": "stream",
          "name": "stdout",
          "text": [
            "*****\n",
            "****\n",
            "***\n",
            "**\n",
            "*\n",
            "\n"
          ]
        }
      ]
    },
    {
      "cell_type": "markdown",
      "source": [
        "QUE :- 3. Print a pyramid of stars?"
      ],
      "metadata": {
        "id": "artS0AhQLlmv"
      }
    },
    {
      "cell_type": "code",
      "source": [
        "numof_rows =int(input(\"::Enter no of rows::\"))\n",
        "for i in range (0,numof_rows):\n",
        "  for j in range(0, numof_rows-i-1):\n",
        "    print(\"\", end=\"\")\n",
        "  for j in range (0, i+1):\n",
        "    print(\"*\", end=\"\")\n",
        "  print(\"\")"
      ],
      "metadata": {
        "colab": {
          "base_uri": "https://localhost:8080/"
        },
        "id": "aysElO_tLV1o",
        "outputId": "63f8784d-eb59-4c6f-d1d9-9799938ddaea"
      },
      "execution_count": null,
      "outputs": [
        {
          "output_type": "stream",
          "name": "stdout",
          "text": [
            "::Enter no of rows::6\n",
            "*\n",
            "**\n",
            "***\n",
            "****\n",
            "*****\n",
            "******\n"
          ]
        }
      ]
    },
    {
      "cell_type": "markdown",
      "source": [
        "QUE :- 4. Create a diamond-shaped star pattern?\n",
        "\n"
      ],
      "metadata": {
        "id": "0wSFxwmcPJ-0"
      }
    },
    {
      "cell_type": "code",
      "source": [
        "for i in range(1,5):\n",
        "  for j in range (4-i):\n",
        "    print(end=\"  \")\n",
        "  for j in range(1,i*2):\n",
        "    print(\"*\",end=\"  \")\n",
        "  print()\n",
        "for i in range (3,0,-1):\n",
        "  for j in range(4-i):\n",
        "    print(end=\"  \")\n",
        "  for j in range(1,i*2):\n",
        "    print(\"*\",end=\"  \")\n",
        "  print()"
      ],
      "metadata": {
        "colab": {
          "base_uri": "https://localhost:8080/"
        },
        "id": "49K5It2nMQLG",
        "outputId": "9769d9d8-230e-451a-ab3d-5f73cab9dbb7"
      },
      "execution_count": null,
      "outputs": [
        {
          "output_type": "stream",
          "name": "stdout",
          "text": [
            "      *  \n",
            "    *  *  *  \n",
            "  *  *  *  *  *  \n",
            "*  *  *  *  *  *  *  \n",
            "  *  *  *  *  *  \n",
            "    *  *  *  \n",
            "      *  \n"
          ]
        }
      ]
    },
    {
      "cell_type": "markdown",
      "source": [
        "QUE :- 5. Print a square of stars?"
      ],
      "metadata": {
        "id": "2Ay_rcwBRlmG"
      }
    },
    {
      "cell_type": "code",
      "source": [
        "n =5\n",
        "\n",
        "for i in range(n):\n",
        "\n",
        "  for j in range(n):\n",
        "\n",
        "    print(\"*\", end=\" \")\n",
        "\n",
        "  print()"
      ],
      "metadata": {
        "colab": {
          "base_uri": "https://localhost:8080/"
        },
        "id": "LFjlOhsnQSoC",
        "outputId": "2abafbce-1b4b-4164-f5bd-a593e1f12371"
      },
      "execution_count": null,
      "outputs": [
        {
          "output_type": "stream",
          "name": "stdout",
          "text": [
            "* * * * * \n",
            "* * * * * \n",
            "* * * * * \n",
            "* * * * * \n",
            "* * * * * \n"
          ]
        }
      ]
    },
    {
      "cell_type": "markdown",
      "source": [
        "QUE :- 6. Create a hollow square stae pattern"
      ],
      "metadata": {
        "id": "G8Xg5_BOSeJ-"
      }
    },
    {
      "cell_type": "code",
      "source": [
        "n= int(input(\"Enter the value:\"))\n",
        "for i in range (n):\n",
        "  for j in range(n):\n",
        "    if i==0 or i==(n-1) or j==0 or j==(n-1):\n",
        "      print(\"*\",end=\"  \")\n",
        "    else:\n",
        "      print(\" \",end=\"  \")\n",
        "  print()"
      ],
      "metadata": {
        "colab": {
          "base_uri": "https://localhost:8080/"
        },
        "id": "h3OuJhOUSa_5",
        "outputId": "908886dd-580a-460c-a981-69c20951717b"
      },
      "execution_count": null,
      "outputs": [
        {
          "output_type": "stream",
          "name": "stdout",
          "text": [
            "Enter the value:5\n",
            "*  *  *  *  *  \n",
            "*           *  \n",
            "*           *  \n",
            "*           *  \n",
            "*  *  *  *  *  \n"
          ]
        }
      ]
    },
    {
      "cell_type": "markdown",
      "source": [
        "QUE :- 7. Print a right angled triangle using number instead of stars?"
      ],
      "metadata": {
        "id": "z8hFp5sjU2jK"
      }
    },
    {
      "cell_type": "code",
      "source": [
        "n=5\n",
        "for i in range(n):\n",
        "  p =1\n",
        "  for j in range(i+1):\n",
        "    print(p , end=' ')\n",
        "    p+=1\n",
        "  print()"
      ],
      "metadata": {
        "colab": {
          "base_uri": "https://localhost:8080/"
        },
        "id": "f3inIglVbAa9",
        "outputId": "ba2f4241-01c2-41bd-daa3-2b44b49d26fa"
      },
      "execution_count": 9,
      "outputs": [
        {
          "output_type": "stream",
          "name": "stdout",
          "text": [
            "1 \n",
            "1 2 \n",
            "1 2 3 \n",
            "1 2 3 4 \n",
            "1 2 3 4 5 \n"
          ]
        }
      ]
    },
    {
      "cell_type": "markdown",
      "source": [
        "QUE :- 8. Create a program to print Pascal's triangle?"
      ],
      "metadata": {
        "id": "lslLJy6VdAFk"
      }
    },
    {
      "cell_type": "code",
      "source": [
        "def pascal_triangle (n):\n",
        "  for i in range(1, n+1):\n",
        "    for k in range (n-i,0,-1):\n",
        "      print(end=\" \")\n",
        "    C=1\n",
        "    for j in range(1, i+1):\n",
        "      print(C,end=\"  \")\n",
        "      C= int(C*(i-j)/j)\n",
        "    print(\"\")\n",
        "pascal_triangle(5)"
      ],
      "metadata": {
        "colab": {
          "base_uri": "https://localhost:8080/"
        },
        "id": "9f_cW2KBc4jN",
        "outputId": "299fdf3f-0405-4c02-fe19-4d281775e6ee"
      },
      "execution_count": 11,
      "outputs": [
        {
          "output_type": "stream",
          "name": "stdout",
          "text": [
            "    1  \n",
            "   1  1  \n",
            "  1  2  1  \n",
            " 1  3  3  1  \n",
            "1  4  6  4  1  \n"
          ]
        }
      ]
    },
    {
      "cell_type": "markdown",
      "source": [
        "QUE :-9. Write a program to print a mirroed right-angled triangle?"
      ],
      "metadata": {
        "id": "s3y6yJCPe4gE"
      }
    },
    {
      "cell_type": "code",
      "source": [
        "r=int(input(\"Enter the number of rows:\"))\n",
        "k= r-1\n",
        "for i in range(1, r+1):\n",
        "  print(\" \"*(k),\"*\"*i,end=\"\")\n",
        "  k=k-1\n",
        "  print()"
      ],
      "metadata": {
        "colab": {
          "base_uri": "https://localhost:8080/"
        },
        "id": "lYkPnAVqgLRi",
        "outputId": "bea1ecf4-181f-4365-dc32-418d68fef40e"
      },
      "execution_count": 18,
      "outputs": [
        {
          "output_type": "stream",
          "name": "stdout",
          "text": [
            "Enter the number of rows:6\n",
            "      *\n",
            "     **\n",
            "    ***\n",
            "   ****\n",
            "  *****\n",
            " ******\n"
          ]
        }
      ]
    },
    {
      "cell_type": "markdown",
      "source": [
        "QUE :-10. Print a stars pattern that resembles a butterfly?\n"
      ],
      "metadata": {
        "id": "_RdmPFhpi2fe"
      }
    },
    {
      "cell_type": "code",
      "source": [
        "a =1\n",
        "b= 7\n",
        "for i in range(1,6):\n",
        "  for j in range(0,i):\n",
        "    print(\"*\", end=\"\")\n",
        "  for k in range(a,9):\n",
        "    print(\"\", end=\" \")\n",
        "  for l in range(0,i):\n",
        "    print(\"*\",end=\" \")\n",
        "  a =a+2\n",
        "  print()\n",
        "for m in range(1,5):\n",
        "  for n in range(m,5):\n",
        "    print(\"*\", end=\"\")\n",
        "  for o in range(b,9):\n",
        "    print(\" \", end=\" \")\n",
        "  for p in range(m,5):\n",
        "    print(\"*\", end=\" \")\n",
        "  b= b-2\n",
        "  print()"
      ],
      "metadata": {
        "colab": {
          "base_uri": "https://localhost:8080/"
        },
        "id": "Ox6PKiRMitfL",
        "outputId": "4a3cf45a-3afc-4519-ed3c-698887a6feab"
      },
      "execution_count": 26,
      "outputs": [
        {
          "output_type": "stream",
          "name": "stdout",
          "text": [
            "*        * \n",
            "**      * * \n",
            "***    * * * \n",
            "****  * * * * \n",
            "****** * * * * \n",
            "****    * * * * \n",
            "***        * * * \n",
            "**            * * \n",
            "*                * \n"
          ]
        }
      ]
    },
    {
      "cell_type": "code",
      "source": [
        ""
      ],
      "metadata": {
        "id": "auC3mxc7jrfu"
      },
      "execution_count": null,
      "outputs": []
    }
  ]
}