{
  "nbformat": 4,
  "nbformat_minor": 0,
  "metadata": {
    "colab": {
      "provenance": []
    },
    "kernelspec": {
      "name": "python3",
      "display_name": "Python 3"
    },
    "language_info": {
      "name": "python"
    }
  },
  "cells": [
    {
      "cell_type": "markdown",
      "source": [
        "#DICTIONARIES QUESTION\n",
        "QUE :- 1. Create a dictionary and print all its keys and values?\n"
      ],
      "metadata": {
        "id": "Bfvjmf62jxvm"
      }
    },
    {
      "cell_type": "code",
      "execution_count": 3,
      "metadata": {
        "colab": {
          "base_uri": "https://localhost:8080/"
        },
        "id": "Sbiq0Y_5ji4j",
        "outputId": "bb85e90e-67d3-4d96-e755-ed60f9b80d69"
      },
      "outputs": [
        {
          "output_type": "stream",
          "name": "stdout",
          "text": [
            "france France\n"
          ]
        }
      ],
      "source": [
        "semifinal = {'france' : 'France'}\n",
        "\n",
        "for k,v in semifinal.items():\n",
        "  print(k,v)"
      ]
    },
    {
      "cell_type": "markdown",
      "source": [
        "QUE :- 2. Write a program to find the sum of all values in a dictionary?\n"
      ],
      "metadata": {
        "id": "goKZtl09lCqK"
      }
    },
    {
      "cell_type": "code",
      "source": [
        "my_dict = {'data 1':100, 'data 2':56, 'data 3': 456}\n",
        "print(sum(my_dict.values()))"
      ],
      "metadata": {
        "colab": {
          "base_uri": "https://localhost:8080/"
        },
        "id": "CW4Rzilgkw4r",
        "outputId": "c39a255f-782a-4d56-8073-86ba27516dd6"
      },
      "execution_count": 14,
      "outputs": [
        {
          "output_type": "stream",
          "name": "stdout",
          "text": [
            "612\n"
          ]
        }
      ]
    },
    {
      "cell_type": "markdown",
      "source": [
        "QUE :- 3. Add a new key-value pair to a dictionary?\n"
      ],
      "metadata": {
        "id": "QhEA64htnsm-"
      }
    },
    {
      "cell_type": "code",
      "source": [
        "d = {'a':20, 'b':46, 'c':60, 'd':98}\n",
        "\n",
        "d['e']=789\n",
        "print(d)"
      ],
      "metadata": {
        "colab": {
          "base_uri": "https://localhost:8080/"
        },
        "id": "e5pu0JGImFtW",
        "outputId": "34df9e8c-2fb4-4f9c-fd43-8fc607e7d96a"
      },
      "execution_count": 18,
      "outputs": [
        {
          "output_type": "stream",
          "name": "stdout",
          "text": [
            "{'a': 20, 'b': 46, 'c': 60, 'd': 98, 'e': 789}\n"
          ]
        }
      ]
    },
    {
      "cell_type": "markdown",
      "source": [
        "QUE :- 4. Merge two dictionaries into one?"
      ],
      "metadata": {
        "id": "YR8Z44CiobEY"
      }
    },
    {
      "cell_type": "code",
      "source": [
        "dict1 ={1:'A',2:'B',3:'C',4:'D'}\n",
        "dict2 ={8:'G', 9:'J'}\n",
        "dict3 ={**dict1,**dict2}\n",
        "print(dict3)"
      ],
      "metadata": {
        "colab": {
          "base_uri": "https://localhost:8080/"
        },
        "id": "NCCf5-G6oPc8",
        "outputId": "ebb7afbc-abf2-4932-b77c-1cc1e2bcb16b"
      },
      "execution_count": 21,
      "outputs": [
        {
          "output_type": "stream",
          "name": "stdout",
          "text": [
            "{1: 'A', 2: 'B', 3: 'C', 4: 'D', 8: 'G', 9: 'J'}\n"
          ]
        }
      ]
    },
    {
      "cell_type": "markdown",
      "source": [
        "QUE :- 5. Check if a key exists in a dictionary?"
      ],
      "metadata": {
        "id": "Vzyab6IvpLh4"
      }
    },
    {
      "cell_type": "code",
      "source": [
        "d ={\"a\":1, \"b\":2}\n",
        "key =\"b\"\n",
        "if key in d:\n",
        "  print(\"Exist\")\n",
        "else:\n",
        "  print(\"Doesn't exist\")"
      ],
      "metadata": {
        "colab": {
          "base_uri": "https://localhost:8080/"
        },
        "id": "LRKEgKffo-60",
        "outputId": "a4dc253a-0f79-4a3c-8c6f-e3735e62d05e"
      },
      "execution_count": 23,
      "outputs": [
        {
          "output_type": "stream",
          "name": "stdout",
          "text": [
            "Exist\n"
          ]
        }
      ]
    },
    {
      "cell_type": "markdown",
      "source": [
        "QUE :- 6. Remove a key- value pair from a dictionary?\n"
      ],
      "metadata": {
        "id": "OTIxoOoSp1n0"
      }
    },
    {
      "cell_type": "code",
      "source": [
        "d ={'name':'savi','age':12, 'grade' :6}\n",
        "del d[\"grade\"]\n",
        "print(d)"
      ],
      "metadata": {
        "colab": {
          "base_uri": "https://localhost:8080/"
        },
        "id": "COgyiX__pwOx",
        "outputId": "476ea3c0-cd39-478b-df52-1b1a47fb4a8a"
      },
      "execution_count": 34,
      "outputs": [
        {
          "output_type": "stream",
          "name": "stdout",
          "text": [
            "{'name': 'savi', 'age': 12}\n"
          ]
        }
      ]
    },
    {
      "cell_type": "markdown",
      "source": [
        "QUE :- 7. Write a program find the maximum value in a dictionary?\n"
      ],
      "metadata": {
        "id": "FiJTzE7zrPrH"
      }
    },
    {
      "cell_type": "code",
      "source": [
        "my_dict= {'x':400, 'y':500, 'z':600}\n",
        "\n",
        "key_max = max(my_dict.keys(), key =(lambda k: my_dict[k]))\n",
        "print('Maximum Value: ', my_dict[key_max])"
      ],
      "metadata": {
        "colab": {
          "base_uri": "https://localhost:8080/"
        },
        "id": "Mc7dPYNsqjKf",
        "outputId": "ebbc81d5-c956-4ebb-dfa3-c587e693df1a"
      },
      "execution_count": 35,
      "outputs": [
        {
          "output_type": "stream",
          "name": "stdout",
          "text": [
            "Maximum Value:  600\n"
          ]
        }
      ]
    },
    {
      "cell_type": "markdown",
      "source": [
        "QUE :- 8. Sort a dictionary by its keys?"
      ],
      "metadata": {
        "id": "rn_MhSkAtXnI"
      }
    },
    {
      "cell_type": "code",
      "source": [
        "D ={\"ARYA\":21, \"SAVI\":34, \"AAROHI\":45}\n",
        "mykeys = list(D.keys())\n",
        "mykeys.sort()\n",
        "sort_dict = {i:D[i] for i in mykeys}\n",
        "print(\"Sorted Dictionary by keys is:\")\n",
        "print(sort_dict)"
      ],
      "metadata": {
        "colab": {
          "base_uri": "https://localhost:8080/"
        },
        "id": "YpNdcIrCtVkr",
        "outputId": "da82621e-9295-42bb-bb06-1772ba29c3f5"
      },
      "execution_count": 37,
      "outputs": [
        {
          "output_type": "stream",
          "name": "stdout",
          "text": [
            "Sorted Dictionary by keys is:\n",
            "{'AAROHI': 45, 'ARYA': 21, 'SAVI': 34}\n"
          ]
        }
      ]
    },
    {
      "cell_type": "markdown",
      "source": [
        "QUE :- 9. Sort a dictionary by its values?\n",
        "\n",
        "\n",
        "\n",
        "\n"
      ],
      "metadata": {
        "id": "q_HD40xQuRYL"
      }
    },
    {
      "cell_type": "code",
      "source": [
        "dt = {5:4, 1:6, 6:3}\n",
        "\n",
        "sorted_dt_value = sorted(dt.values())\n",
        "\n",
        "print(sorted_dt_value)\n",
        "\n",
        "\n",
        "\n"
      ],
      "metadata": {
        "colab": {
          "base_uri": "https://localhost:8080/"
        },
        "id": "8fO7XHWbuKX8",
        "outputId": "75609471-1d63-471f-8acc-12bd718d3067"
      },
      "execution_count": 41,
      "outputs": [
        {
          "output_type": "stream",
          "name": "stdout",
          "text": [
            "[3, 4, 6]\n"
          ]
        }
      ]
    },
    {
      "cell_type": "markdown",
      "source": [
        "QUE :- 10. Write a program to count the frequency of characters in a string using a dictionary?"
      ],
      "metadata": {
        "id": "elxAwHvbvjxk"
      }
    },
    {
      "cell_type": "code",
      "source": [
        "s = input(\"Enter a string:\")\n",
        "D={}\n",
        "for ch in s:\n",
        "  if  ch in D:\n",
        "    D[ch]+=1\n",
        "  else:\n",
        "    D[ch]=1\n",
        "print(\"frequency of each character is :\")\n",
        "for k in D:\n",
        "  print(\"Frequency of \",k,\"is\", D[k])\n",
        ""
      ],
      "metadata": {
        "colab": {
          "base_uri": "https://localhost:8080/"
        },
        "id": "Eps3w9_-vLSL",
        "outputId": "98df7295-9503-4f61-f271-70500d35ed68"
      },
      "execution_count": 50,
      "outputs": [
        {
          "output_type": "stream",
          "name": "stdout",
          "text": [
            "Enter a string:corporate world\n",
            "frequency of each character is :\n",
            "Frequency of  c is 1\n",
            "Frequency of  o is 3\n",
            "Frequency of  r is 3\n",
            "Frequency of  p is 1\n",
            "Frequency of  a is 1\n",
            "Frequency of  t is 1\n",
            "Frequency of  e is 1\n",
            "Frequency of    is 1\n",
            "Frequency of  w is 1\n",
            "Frequency of  l is 1\n",
            "Frequency of  d is 1\n"
          ]
        }
      ]
    },
    {
      "cell_type": "code",
      "source": [],
      "metadata": {
        "id": "OTIr_Ei2w9rD"
      },
      "execution_count": 50,
      "outputs": []
    }
  ]
}