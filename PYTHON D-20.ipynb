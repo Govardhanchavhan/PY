{
  "nbformat": 4,
  "nbformat_minor": 0,
  "metadata": {
    "colab": {
      "provenance": []
    },
    "kernelspec": {
      "name": "python3",
      "display_name": "Python 3"
    },
    "language_info": {
      "name": "python"
    }
  },
  "cells": [
    {
      "cell_type": "markdown",
      "source": [
        "#ADVANCED PATTERN\n",
        "QUE :- 1. Print a hollow pyramid of stars?"
      ],
      "metadata": {
        "id": "XD1mpsXugjzz"
      }
    },
    {
      "cell_type": "code",
      "execution_count": 2,
      "metadata": {
        "colab": {
          "base_uri": "https://localhost:8080/"
        },
        "id": "FCFOk_-igCC8",
        "outputId": "3b8a6312-b5c6-4e65-a66b-1cc981737c7e"
      },
      "outputs": [
        {
          "output_type": "stream",
          "name": "stdout",
          "text": [
            "       \n",
            "      * \n",
            "     * * \n",
            "    *   * \n",
            "   *     * \n",
            "  * * * * * \n"
          ]
        }
      ],
      "source": [
        "n = 6\n",
        "for i in range(n):\n",
        "  print(\" \"*(n-i), end= \" \")\n",
        "  for j in range(i):\n",
        "    if i==0 or i==n-1 or j==0 or j==i-1:\n",
        "      print(\"*\",end=\" \")\n",
        "    else:\n",
        "      print(\" \",end=\" \")\n",
        "  print()\n"
      ]
    },
    {
      "cell_type": "markdown",
      "source": [
        "QUE :- 2. Create a checkerboard pattern of * and spaces?"
      ],
      "metadata": {
        "id": "W9cwcVXWiZuR"
      }
    },
    {
      "cell_type": "code",
      "source": [
        "rows = int(input(\"Enter the size of the checkerboard:\"))\n",
        "for i in range(rows):\n",
        "  for j in range(rows):\n",
        "    if (i+j)%2==0:\n",
        "      print(\"X\",end=\" \")\n",
        "    else:\n",
        "      print(\"O\",end=\" \")\n",
        "  print()"
      ],
      "metadata": {
        "colab": {
          "base_uri": "https://localhost:8080/"
        },
        "id": "ztFolUvFh7b2",
        "outputId": "24aebde2-8b02-4269-b797-0ee589d250bc"
      },
      "execution_count": 5,
      "outputs": [
        {
          "output_type": "stream",
          "name": "stdout",
          "text": [
            "Enter the size of the checkerboard:6\n",
            "X O X O X O \n",
            "O X O X O X \n",
            "X O X O X O \n",
            "O X O X O X \n",
            "X O X O X O \n",
            "O X O X O X \n"
          ]
        }
      ]
    },
    {
      "cell_type": "markdown",
      "source": [
        "QUE :- 3. Write a program to print a spiral matrix pattern?"
      ],
      "metadata": {
        "id": "mn0O_mMZjm9j"
      }
    },
    {
      "cell_type": "code",
      "source": [
        "n= 4\n",
        "for x in range(1-n,n):\n",
        "  for y in range(1-n,n):\n",
        "    if abs(x)>abs(y):\n",
        "      print(\"{:2d}\".format(abs(x)+1,end=\" \"))\n",
        "    else:\n",
        "      print(\"{:2d}\".format(abs(y)+1,end=\" \"))\n",
        "  print()"
      ],
      "metadata": {
        "colab": {
          "base_uri": "https://localhost:8080/"
        },
        "id": "-uNQNk_HjfX3",
        "outputId": "945b2e8f-a2ca-4336-9ae9-ea7bb599c608"
      },
      "execution_count": 7,
      "outputs": [
        {
          "output_type": "stream",
          "name": "stdout",
          "text": [
            " 4\n",
            " 4\n",
            " 4\n",
            " 4\n",
            " 4\n",
            " 4\n",
            " 4\n",
            "\n",
            " 4\n",
            " 3\n",
            " 3\n",
            " 3\n",
            " 3\n",
            " 3\n",
            " 4\n",
            "\n",
            " 4\n",
            " 3\n",
            " 2\n",
            " 2\n",
            " 2\n",
            " 3\n",
            " 4\n",
            "\n",
            " 4\n",
            " 3\n",
            " 2\n",
            " 1\n",
            " 2\n",
            " 3\n",
            " 4\n",
            "\n",
            " 4\n",
            " 3\n",
            " 2\n",
            " 2\n",
            " 2\n",
            " 3\n",
            " 4\n",
            "\n",
            " 4\n",
            " 3\n",
            " 3\n",
            " 3\n",
            " 3\n",
            " 3\n",
            " 4\n",
            "\n",
            " 4\n",
            " 4\n",
            " 4\n",
            " 4\n",
            " 4\n",
            " 4\n",
            " 4\n",
            "\n"
          ]
        }
      ]
    },
    {
      "cell_type": "markdown",
      "source": [
        "QUE :- 4. Create a zigzag star pattern?"
      ],
      "metadata": {
        "id": "Kla52Y0hmAdO"
      }
    },
    {
      "cell_type": "code",
      "source": [
        "n= int(input())\n",
        "for i in range(1,4):\n",
        "  for j in range(1, n+1):\n",
        "    if(((i+j)% 4 ==0) or (i==2) and (j % 4 ==0)):\n",
        "      print(\"*\", end =' ')\n",
        "    else:\n",
        "      print(\" \", end=' ')\n",
        "  print()"
      ],
      "metadata": {
        "colab": {
          "base_uri": "https://localhost:8080/"
        },
        "id": "Z8k5o1RmlHpM",
        "outputId": "46095028-f933-4d6d-bd50-6efe6a2d4dc3"
      },
      "execution_count": 11,
      "outputs": [
        {
          "output_type": "stream",
          "name": "stdout",
          "text": [
            "5\n",
            "    *     \n",
            "  *   *   \n",
            "*       * \n"
          ]
        }
      ]
    },
    {
      "cell_type": "markdown",
      "source": [
        "QUE :- 5. Write a program to print a binary triangle pattern?\n"
      ],
      "metadata": {
        "id": "guKZ5jc5nAfg"
      }
    },
    {
      "cell_type": "code",
      "source": [
        "N= int(input(\"Enter the Number:\"))\n",
        "for I in range(1,N+1):\n",
        "  for J in range(1,I+1):\n",
        "    print(I%2,end=\" \")\n",
        "  print()"
      ],
      "metadata": {
        "colab": {
          "base_uri": "https://localhost:8080/"
        },
        "id": "D_JRbu20m4QT",
        "outputId": "43b55e65-084b-41fc-b7ac-2ad1dee75764"
      },
      "execution_count": 16,
      "outputs": [
        {
          "output_type": "stream",
          "name": "stdout",
          "text": [
            "Enter the Number:10\n",
            "1 \n",
            "0 0 \n",
            "1 1 1 \n",
            "0 0 0 0 \n",
            "1 1 1 1 1 \n",
            "0 0 0 0 0 0 \n",
            "1 1 1 1 1 1 1 \n",
            "0 0 0 0 0 0 0 0 \n",
            "1 1 1 1 1 1 1 1 1 \n",
            "0 0 0 0 0 0 0 0 0 0 \n"
          ]
        }
      ]
    },
    {
      "cell_type": "markdown",
      "source": [
        "QUE :- 6. Print a diamond of numbers?"
      ],
      "metadata": {
        "id": "ZS30qvmuoSjH"
      }
    },
    {
      "cell_type": "code",
      "source": [
        "noof_rows = int(input(\"::Enter noof rows::\"))\n",
        "for i in range(noof_rows):\n",
        "  for j in range(noof_rows):\n",
        "    print(\" \", end=\"\")\n",
        "  for j in range(2*i+1):\n",
        "    print(j+1,end=\"\")\n",
        "  print()"
      ],
      "metadata": {
        "colab": {
          "base_uri": "https://localhost:8080/"
        },
        "id": "eGo9MFRJoPge",
        "outputId": "9f0ee3ed-431d-41a8-fb97-494522a5c076"
      },
      "execution_count": 25,
      "outputs": [
        {
          "output_type": "stream",
          "name": "stdout",
          "text": [
            "::Enter noof rows::5\n",
            "     1\n",
            "     123\n",
            "     12345\n",
            "     1234567\n",
            "     123456789\n"
          ]
        }
      ]
    },
    {
      "cell_type": "markdown",
      "source": [
        "QUE :- 7. Create a program to print an hourglass pattern?"
      ],
      "metadata": {
        "id": "vBsfR4-fpeYD"
      }
    },
    {
      "cell_type": "code",
      "source": [
        "n = int(input(\"Enter N value\"))\n",
        "for i in  range(n,0,-1):\n",
        "  print(\"  \"*(n-i),(2*i-1)*\"*  \")\n",
        "for i in range(2, n+1):\n",
        "  print(\"  \"*(n-i),(2*i-1)*\"*   \")\n"
      ],
      "metadata": {
        "colab": {
          "base_uri": "https://localhost:8080/"
        },
        "id": "owx3vdG-pG9X",
        "outputId": "fcc7ef48-91d5-4b5c-c5eb-f3392d11640b"
      },
      "execution_count": 29,
      "outputs": [
        {
          "output_type": "stream",
          "name": "stdout",
          "text": [
            "Enter N value5\n",
            " *  *  *  *  *  *  *  *  *  \n",
            "   *  *  *  *  *  *  *  \n",
            "     *  *  *  *  *  \n",
            "       *  *  *  \n",
            "         *  \n",
            "       *   *   *   \n",
            "     *   *   *   *   *   \n",
            "   *   *   *   *   *   *   *   \n",
            " *   *   *   *   *   *   *   *   *   \n"
          ]
        }
      ]
    },
    {
      "cell_type": "markdown",
      "source": [
        "QUE :- 8. Write a pattern that alternates between * and numbers?"
      ],
      "metadata": {
        "id": "mM9rGmMhqmxr"
      }
    },
    {
      "cell_type": "code",
      "source": [
        "row = 5\n",
        "for i in range(0,rows):\n",
        "  num=1\n",
        "  print(num,end=\" \")\n",
        "  for j in range(row-i -1,0,-1):\n",
        "    print(\"*\",end=\"  \")\n",
        "    num=num+1\n",
        "    print(num,end=\" \")\n",
        "  print()"
      ],
      "metadata": {
        "colab": {
          "base_uri": "https://localhost:8080/"
        },
        "id": "nysQAV2BqRVJ",
        "outputId": "530df07c-d986-4093-892a-910ff16a3209"
      },
      "execution_count": 30,
      "outputs": [
        {
          "output_type": "stream",
          "name": "stdout",
          "text": [
            "1 *  2 *  3 *  4 *  5 \n",
            "1 *  2 *  3 *  4 \n",
            "1 *  2 *  3 \n",
            "1 *  2 \n",
            "1 \n",
            "1 \n"
          ]
        }
      ]
    },
    {
      "cell_type": "markdown",
      "source": [
        "QUE :- 9. Print the Floyd's triangle pattern of numbers?"
      ],
      "metadata": {
        "id": "gNWrCRDTscIi"
      }
    },
    {
      "cell_type": "code",
      "source": [
        "n = int(input('num of rows:'))\n",
        "num = 1\n",
        "print(\"Floyd's Triangle\\n\")\n",
        "for i in range(1, n+1):\n",
        "  for j in range(1,i+1):\n",
        "    print(num,end ='')\n",
        "    num+=1\n",
        "  print()"
      ],
      "metadata": {
        "colab": {
          "base_uri": "https://localhost:8080/"
        },
        "id": "-T0TTGelsZMr",
        "outputId": "67f85963-d05f-4ec6-f992-c2efc4acb9bb"
      },
      "execution_count": 33,
      "outputs": [
        {
          "output_type": "stream",
          "name": "stdout",
          "text": [
            "num of rows:5\n",
            "Floyd's Triangle\n",
            "\n",
            "1\n",
            "23\n",
            "456\n",
            "78910\n",
            "1112131415\n"
          ]
        }
      ]
    },
    {
      "cell_type": "markdown",
      "source": [
        "QUE :- 10. Create a pattern that forms a square with alternating 1s and 0s?"
      ],
      "metadata": {
        "id": "Pzd7d1nLtvLq"
      }
    },
    {
      "cell_type": "code",
      "source": [
        "n = 5\n",
        "for i in range(n):\n",
        "  for j in range(n):\n",
        "    print('* ', end=' ')\n",
        "  print()"
      ],
      "metadata": {
        "colab": {
          "base_uri": "https://localhost:8080/"
        },
        "id": "WTVkDkhVtgAG",
        "outputId": "49fb037c-f83a-43ca-c435-b4f58c776c7a"
      },
      "execution_count": 34,
      "outputs": [
        {
          "output_type": "stream",
          "name": "stdout",
          "text": [
            "*  *  *  *  *  \n",
            "*  *  *  *  *  \n",
            "*  *  *  *  *  \n",
            "*  *  *  *  *  \n",
            "*  *  *  *  *  \n"
          ]
        }
      ]
    },
    {
      "cell_type": "code",
      "source": [],
      "metadata": {
        "id": "57BzmZcLu-PE"
      },
      "execution_count": null,
      "outputs": []
    }
  ]
}