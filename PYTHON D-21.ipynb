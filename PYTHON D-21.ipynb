{
  "nbformat": 4,
  "nbformat_minor": 0,
  "metadata": {
    "colab": {
      "provenance": []
    },
    "kernelspec": {
      "name": "python3",
      "display_name": "Python 3"
    },
    "language_info": {
      "name": "python"
    }
  },
  "cells": [
    {
      "cell_type": "markdown",
      "source": [
        "#Miscellaneous Questions\n",
        "QUE :- 1. Create a calculator program that supports modulus and exponentiation?"
      ],
      "metadata": {
        "id": "8K8oZX44xRWk"
      }
    },
    {
      "cell_type": "code",
      "execution_count": 18,
      "metadata": {
        "colab": {
          "base_uri": "https://localhost:8080/"
        },
        "id": "KgIa5jFNxDOr",
        "outputId": "48ee299d-3f60-435b-9ce1-d6d116994522"
      },
      "outputs": [
        {
          "output_type": "stream",
          "name": "stdout",
          "text": [
            "2**3=8\n",
            "[0, 2, 4]\n"
          ]
        }
      ],
      "source": [
        "from re import X\n",
        "# Exponentiation operator in python\n",
        "a = 2\n",
        "b = 3\n",
        "c = a**b\n",
        "print(\"{}**{}={}\".format(a,b,c))\n",
        "\n",
        "# Modulus operator in python\n",
        "l =[x\n",
        "     for x in range(6)\n",
        "     if x % 2==0\n",
        "     ]\n",
        "\n",
        "print(l)"
      ]
    },
    {
      "cell_type": "markdown",
      "source": [
        "QUE :- 2. Write a program to check if a given year is a century year?"
      ],
      "metadata": {
        "id": "sok6T-Ye0imy"
      }
    },
    {
      "cell_type": "code",
      "source": [
        "year = int(input(\"Enter the year:\"))\n",
        "if year% 4==0:\n",
        "  if year %400 ==0 or year %100 !=0:\n",
        "    print(year, \"is a century year\")\n",
        "  else:\n",
        "    print(year, \"is not a century year\")\n",
        "else:\n",
        "  print(year, \"is not a century year\")"
      ],
      "metadata": {
        "colab": {
          "base_uri": "https://localhost:8080/"
        },
        "id": "Se_BxMaZy7gh",
        "outputId": "112e2454-3cf3-4710-b486-86de36df12ab"
      },
      "execution_count": 24,
      "outputs": [
        {
          "output_type": "stream",
          "name": "stdout",
          "text": [
            "Enter the year:1977\n",
            "1977 is not a century year\n"
          ]
        }
      ]
    },
    {
      "cell_type": "markdown",
      "source": [
        "QUE :- 3. Generate a list of random numbers and find their average?\n"
      ],
      "metadata": {
        "id": "c-8qgpy03C8E"
      }
    },
    {
      "cell_type": "code",
      "source": [
        "import random\n",
        "\n",
        "\n",
        "rn = random.randint(0, 100)\n",
        "print(rn)\n",
        "\n",
        "rn1 =(53,73,91,20,96,20,51,14,5,11,24,86)\n",
        "#Method-1- using len(),sum()\n",
        "print(sum(rn1))\n",
        "print(len(rn1))\n",
        "print(sum(rn1))"
      ],
      "metadata": {
        "colab": {
          "base_uri": "https://localhost:8080/"
        },
        "id": "Z2OLozYO1nsq",
        "outputId": "f9d5cd5d-5202-45a8-fef2-9af9360b40c5"
      },
      "execution_count": 50,
      "outputs": [
        {
          "output_type": "stream",
          "name": "stdout",
          "text": [
            "10\n",
            "544\n",
            "12\n",
            "544\n"
          ]
        }
      ]
    },
    {
      "cell_type": "markdown",
      "source": [
        "QUE :- 4. Write a program to calculate the compound interest?"
      ],
      "metadata": {
        "id": "OTuMt8DK7cXa"
      }
    },
    {
      "cell_type": "code",
      "source": [
        "p = int(input(\"Enter the principal:\"))\n",
        "r = int(input(\"Enter the rate of interest:\"))\n",
        "t = int(input(\"Enter time period:\"))\n",
        "amount = p *(pow((1+r/100), t))\n",
        "compound_interest = amount - p\n",
        "print(\"Compound interest :% 0.2f\")\n",
        "%compound _interest"
      ],
      "metadata": {
        "colab": {
          "base_uri": "https://localhost:8080/"
        },
        "id": "OOCUllTP6jgJ",
        "outputId": "d7e7b214-68a0-42df-86ad-0e9813ce06bf"
      },
      "execution_count": 52,
      "outputs": [
        {
          "output_type": "stream",
          "name": "stdout",
          "text": [
            "Enter the principal:700\n",
            "Enter the rate of interest:50\n",
            "Enter time period:5\n",
            "Compound interest :% 0.2f\n"
          ]
        },
        {
          "output_type": "stream",
          "name": "stderr",
          "text": [
            "UsageError: Line magic function `%compound` not found.\n"
          ]
        }
      ]
    },
    {
      "cell_type": "markdown",
      "source": [
        "QUE :- 5.Create a program to simulate a number guessing game?\n"
      ],
      "metadata": {
        "id": "NhOaCJ368u10"
      }
    },
    {
      "cell_type": "code",
      "source": [
        "gnum= [1,2,3,4,5,6,7,8,9,10]\n",
        "num = random.choice(gnum)\n",
        "\n",
        "for i in range (2):_# Number of tries to guess\n",
        "guess = int(input(\"Enter 1 digit number :\"))\n",
        "if guess == num:\n",
        "  print(\"You got it !\")\n",
        "\n",
        "elif guess-num==2 or num-guess:\n",
        "  print(\"your close\")\n",
        "else:\n",
        "  print(\"Try again\")"
      ],
      "metadata": {
        "colab": {
          "base_uri": "https://localhost:8080/"
        },
        "id": "DRIlwPn88chn",
        "outputId": "2c590241-aa30-40e4-dbb8-b43d77092950"
      },
      "execution_count": 57,
      "outputs": [
        {
          "output_type": "stream",
          "name": "stdout",
          "text": [
            "Enter 1 digit number :8\n",
            "your close\n"
          ]
        }
      ]
    },
    {
      "cell_type": "markdown",
      "source": [
        "QUE :- 6. Find the GCD (Greatest Common Divisor) of two numbers?"
      ],
      "metadata": {
        "id": "qZxaLa9W-6u3"
      }
    },
    {
      "cell_type": "code",
      "source": [
        "import math\n",
        "n= int(input(\"Enter first number:\"))\n",
        "m= int(input(\"Enter second number:\"))\n",
        "print(math.gcd(n,m))"
      ],
      "metadata": {
        "colab": {
          "base_uri": "https://localhost:8080/"
        },
        "id": "8d9LbDJ6-ajG",
        "outputId": "71522e03-b6ea-40cf-860e-c548c082e644"
      },
      "execution_count": 67,
      "outputs": [
        {
          "output_type": "stream",
          "name": "stdout",
          "text": [
            "Enter first number:34\n",
            "Enter second number:56\n",
            "2\n"
          ]
        }
      ]
    },
    {
      "cell_type": "markdown",
      "source": [
        "QUE :- 7. Write a program to find the LCM (Least Common Multiple) of two numbers?"
      ],
      "metadata": {
        "id": "YtfSqjk2Dgse"
      }
    },
    {
      "cell_type": "code",
      "source": [
        "import math\n",
        "n= int(input(\"Enter first number:\"))\n",
        "m= int(input(\"Enter second number:\"))\n",
        "print(math.lcm(n,m))"
      ],
      "metadata": {
        "colab": {
          "base_uri": "https://localhost:8080/"
        },
        "id": "z-92N7a_A33l",
        "outputId": "a45639f5-42ec-41e4-8200-28e035981472"
      },
      "execution_count": 68,
      "outputs": [
        {
          "output_type": "stream",
          "name": "stdout",
          "text": [
            "Enter first number:67\n",
            "Enter second number:89\n",
            "5963\n"
          ]
        }
      ]
    },
    {
      "cell_type": "markdown",
      "source": [
        "QUE :- 8. Create a program to convert a decimal number to binary?"
      ],
      "metadata": {
        "id": "ZkFFvOABEgQj"
      }
    },
    {
      "cell_type": "markdown",
      "source": [],
      "metadata": {
        "id": "_KjEt_myGPUp"
      }
    },
    {
      "cell_type": "code",
      "source": [
        "num = 250\n",
        "x= bin(num)[2:]\n",
        "print(x)\n",
        "\n",
        "y= int(x,2)\n",
        "print(y)"
      ],
      "metadata": {
        "colab": {
          "base_uri": "https://localhost:8080/"
        },
        "id": "84dN2D7jEB1p",
        "outputId": "dae94321-e16a-47e0-a449-1a52ac942364"
      },
      "execution_count": 69,
      "outputs": [
        {
          "output_type": "stream",
          "name": "stdout",
          "text": [
            "11111010\n",
            "250\n"
          ]
        }
      ]
    },
    {
      "cell_type": "markdown",
      "source": [
        "QUE :- 9. Write a program to sort a list of tuples by the second element?"
      ],
      "metadata": {
        "id": "Dm8Img4vGD1r"
      }
    },
    {
      "cell_type": "code",
      "source": [
        "tuples_list = [(3,4),(5,7),(2,9),(4,8)]\n",
        "\n",
        "\n",
        "sorted_list = sorted (tuples_list, key=lambda i:i[1])\n",
        "\n",
        "\n",
        "print(sorted_list)"
      ],
      "metadata": {
        "colab": {
          "base_uri": "https://localhost:8080/"
        },
        "id": "VAKmDHHHGABo",
        "outputId": "d9d8e188-5de2-4c5c-fb57-a34d84d06a0d"
      },
      "execution_count": 85,
      "outputs": [
        {
          "output_type": "stream",
          "name": "stdout",
          "text": [
            "[(3, 4), (5, 7), (4, 8), (2, 9)]\n"
          ]
        }
      ]
    },
    {
      "cell_type": "markdown",
      "source": [
        "QUE :- 10. Create a program to count the number of unique words in a string?"
      ],
      "metadata": {
        "id": "zs4p1-d5JV_e"
      }
    },
    {
      "cell_type": "code",
      "source": [
        "s = input(\"Enter a string:\")\n",
        "words = s. split()\n",
        "count = len(words)\n",
        "print(\"Total words:\", count)"
      ],
      "metadata": {
        "colab": {
          "base_uri": "https://localhost:8080/"
        },
        "id": "rkpX51GFGqcs",
        "outputId": "8ebd9dc4-8495-4b43-e373-6961499ab1aa"
      },
      "execution_count": 90,
      "outputs": [
        {
          "output_type": "stream",
          "name": "stdout",
          "text": [
            "Enter a string:my self is arya\n",
            "Total words: 4\n"
          ]
        }
      ]
    },
    {
      "cell_type": "code",
      "source": [],
      "metadata": {
        "id": "zgA6fOx7KU0u"
      },
      "execution_count": 90,
      "outputs": []
    }
  ]
}