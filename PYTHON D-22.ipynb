{
  "nbformat": 4,
  "nbformat_minor": 0,
  "metadata": {
    "colab": {
      "provenance": []
    },
    "kernelspec": {
      "name": "python3",
      "display_name": "Python 3"
    },
    "language_info": {
      "name": "python"
    }
  },
  "cells": [
    {
      "cell_type": "markdown",
      "source": [
        "**OOPS** OBJECT ORIENTED PROGRAMMING"
      ],
      "metadata": {
        "id": "Ir-q6PL03aM3"
      }
    },
    {
      "cell_type": "markdown",
      "source": [
        "Solving a problem by creating objects is one of the most popular approach in programming. this is called OOP.\n",
        "This is use for reusable code."
      ],
      "metadata": {
        "id": "ChqZYQDv4HF9"
      }
    },
    {
      "cell_type": "markdown",
      "source": [
        "#Class - Blueprint for creating objects\n",
        "class name is always start with CAPITAL Letter.\n",
        "\n",
        "#Object - Instance of a class"
      ],
      "metadata": {
        "id": "e27g5jhQ4k7a"
      }
    },
    {
      "cell_type": "markdown",
      "source": [
        "What is mean by constructor?"
      ],
      "metadata": {
        "id": "0Qw1wdcE7Zjy"
      }
    },
    {
      "cell_type": "code",
      "execution_count": 1,
      "metadata": {
        "colab": {
          "base_uri": "https://localhost:8080/"
        },
        "id": "GooJmcCF21X8",
        "outputId": "d5ff8a81-6ab5-4e1a-909c-1c10d359ea11"
      },
      "outputs": [
        {
          "output_type": "stream",
          "name": "stdout",
          "text": [
            "Arya\n"
          ]
        }
      ],
      "source": [
        "#class define\n",
        "class Person:\n",
        "  #constructor method to initialize the class\n",
        "  def __init__(self, name, age):\n",
        "    self.name = name    #assign name to object\n",
        "    self.age = age      #assign age to object\n",
        "\n",
        "#create an object for the class\n",
        "person1 = Person ('Arya', 25)\n",
        "person2 = Person('Govardhan',28)\n",
        "\n",
        "#access and print\n",
        "print(person1.name)"
      ]
    },
    {
      "cell_type": "code",
      "source": [
        "person2.age"
      ],
      "metadata": {
        "colab": {
          "base_uri": "https://localhost:8080/"
        },
        "id": "l3q_NPbC6weG",
        "outputId": "855eaa08-59d7-4a49-b388-44b65d2b7528"
      },
      "execution_count": 3,
      "outputs": [
        {
          "output_type": "execute_result",
          "data": {
            "text/plain": [
              "28"
            ]
          },
          "metadata": {},
          "execution_count": 3
        }
      ]
    },
    {
      "cell_type": "markdown",
      "source": [
        "What does it mean by Inheritance\n",
        "\n"
      ],
      "metadata": {
        "id": "MNVM3oy77Ohg"
      }
    },
    {
      "cell_type": "markdown",
      "source": [
        "2. Inheritance -\n",
        "\n",
        " meaning - virasat,sampatti"
      ],
      "metadata": {
        "id": "jEtwXpWF7UoG"
      }
    },
    {
      "cell_type": "code",
      "source": [
        "#base class\n",
        "class Animal:\n",
        "  #define method in animal\n",
        "  def sound(self):\n",
        "    return \"Make a sound\"\n",
        "\n",
        "#child class\n",
        "class Dog(Animal):\n",
        "  def sound(self):\n",
        "    return\"Barks\"\n",
        "\n",
        "#object create\n",
        "\n",
        "dog = Dog()"
      ],
      "metadata": {
        "id": "L7ECjOdE6-Jp"
      },
      "execution_count": 4,
      "outputs": []
    },
    {
      "cell_type": "code",
      "source": [
        "print(dog.sound())"
      ],
      "metadata": {
        "colab": {
          "base_uri": "https://localhost:8080/"
        },
        "id": "52nlThGq8cyR",
        "outputId": "23023ae5-5492-42d9-ae5f-a3a0e9b7359d"
      },
      "execution_count": 5,
      "outputs": [
        {
          "output_type": "stream",
          "name": "stdout",
          "text": [
            "Barks\n"
          ]
        }
      ]
    },
    {
      "cell_type": "markdown",
      "source": [
        "3. POLYMORPHISM"
      ],
      "metadata": {
        "id": "kO5GQCMm8suN"
      }
    },
    {
      "cell_type": "code",
      "source": [
        "class Dog:\n",
        "  def speak(self):\n",
        "    return \"Barks\"\n",
        "\n",
        "class Cat:\n",
        "  def speak(slef):\n",
        "    return \"Meows\"\n",
        "\n",
        "#define function\n",
        "def animal_sound(animal):\n",
        "  print(animal.speak())\n",
        "\n",
        "#object\n",
        "cat = Cat()\n",
        "dog = Dog()"
      ],
      "metadata": {
        "id": "Qr5rrlm58iFl"
      },
      "execution_count": 6,
      "outputs": []
    },
    {
      "cell_type": "code",
      "source": [
        "animal_sound(dog)"
      ],
      "metadata": {
        "colab": {
          "base_uri": "https://localhost:8080/"
        },
        "id": "sqiSO6vJ9tOV",
        "outputId": "21980dc8-a545-4e66-9822-b4d03a9a2602"
      },
      "execution_count": 7,
      "outputs": [
        {
          "output_type": "stream",
          "name": "stdout",
          "text": [
            "Barks\n"
          ]
        }
      ]
    },
    {
      "cell_type": "code",
      "source": [
        "animal_sound(cat)"
      ],
      "metadata": {
        "colab": {
          "base_uri": "https://localhost:8080/"
        },
        "id": "tR_71GZA94Fr",
        "outputId": "d04b56e9-b9f2-418e-c4b2-9d262bedc060"
      },
      "execution_count": 8,
      "outputs": [
        {
          "output_type": "stream",
          "name": "stdout",
          "text": [
            "Meows\n"
          ]
        }
      ]
    },
    {
      "cell_type": "markdown",
      "source": [
        "4. **Encapsulation **"
      ],
      "metadata": {
        "id": "Kx34KOhl-DIL"
      }
    },
    {
      "cell_type": "code",
      "source": [
        "class BankAccount:\n",
        "  def __init__(self):\n",
        "    self.__balance = 0    #private variable\n",
        "\n",
        "\n",
        "  def deposit(self, amount):\n",
        "    self.__balance += amount\n",
        "\n",
        "  def getbalance(self):\n",
        "    return self.__balance\n",
        "\n",
        "\n",
        "account = BankAccount()"
      ],
      "metadata": {
        "id": "eKuO4-B_96y-"
      },
      "execution_count": 14,
      "outputs": []
    },
    {
      "cell_type": "code",
      "source": [
        "account.deposit(1000)"
      ],
      "metadata": {
        "id": "E1t336oI_pH3"
      },
      "execution_count": 15,
      "outputs": []
    },
    {
      "cell_type": "code",
      "source": [
        "account.getbalance()"
      ],
      "metadata": {
        "colab": {
          "base_uri": "https://localhost:8080/"
        },
        "id": "u6c_iemu_wOM",
        "outputId": "07666a4e-2347-4b95-a4b2-10021f41ec37"
      },
      "execution_count": 16,
      "outputs": [
        {
          "output_type": "execute_result",
          "data": {
            "text/plain": [
              "1000"
            ]
          },
          "metadata": {},
          "execution_count": 16
        }
      ]
    },
    {
      "cell_type": "markdown",
      "source": [
        "5. Abstraction-\n",
        "\n",
        "hidding the internal details"
      ],
      "metadata": {
        "id": "R8yY5E2KADrv"
      }
    },
    {
      "cell_type": "code",
      "source": [
        "#import abstract base class  (ABC)\n",
        "\n",
        "from abc import ABC, abstractmethod"
      ],
      "metadata": {
        "id": "IBKOGWTh_0cd"
      },
      "execution_count": 18,
      "outputs": []
    },
    {
      "cell_type": "code",
      "source": [
        "class Shape(ABC):\n",
        "  def area(self):\n",
        "    pass\n",
        "\n",
        "class Rectangle(Shape):\n",
        "  def __init__(self,length,width):\n",
        "    self.length = length\n",
        "    self.widht = width\n",
        "\n",
        "  def area(self):\n",
        "    return self.length*self.length\n",
        "\n",
        "rectangle = Rectangle(5,10)"
      ],
      "metadata": {
        "id": "F7Sc20tpAn78"
      },
      "execution_count": 21,
      "outputs": []
    },
    {
      "cell_type": "code",
      "source": [
        "rectangle.area()"
      ],
      "metadata": {
        "colab": {
          "base_uri": "https://localhost:8080/"
        },
        "id": "TZzLa03HA4Tt",
        "outputId": "6627980c-3a23-449c-bc52-fca2c11b58e9"
      },
      "execution_count": 22,
      "outputs": [
        {
          "output_type": "execute_result",
          "data": {
            "text/plain": [
              "25"
            ]
          },
          "metadata": {},
          "execution_count": 22
        }
      ]
    },
    {
      "cell_type": "code",
      "source": [],
      "metadata": {
        "id": "6B4ocv2GBihR"
      },
      "execution_count": null,
      "outputs": []
    }
  ]
}