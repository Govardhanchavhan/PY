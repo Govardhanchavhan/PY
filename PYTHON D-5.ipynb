{
  "nbformat": 4,
  "nbformat_minor": 0,
  "metadata": {
    "colab": {
      "provenance": []
    },
    "kernelspec": {
      "name": "python3",
      "display_name": "Python 3"
    },
    "language_info": {
      "name": "python"
    }
  },
  "cells": [
    {
      "cell_type": "code",
      "execution_count": 1,
      "metadata": {
        "id": "sKOkaJEGvsqi"
      },
      "outputs": [],
      "source": [
        "my_dict = {'a':1, 'b':2, 'c':3}"
      ]
    },
    {
      "cell_type": "markdown",
      "source": [
        "#1. clear()"
      ],
      "metadata": {
        "id": "LoZS0qUkwTsi"
      }
    },
    {
      "cell_type": "code",
      "source": [
        "my_dict.clear()"
      ],
      "metadata": {
        "id": "tqyXZwDrwO1-"
      },
      "execution_count": 2,
      "outputs": []
    },
    {
      "cell_type": "code",
      "source": [
        "my_dict"
      ],
      "metadata": {
        "colab": {
          "base_uri": "https://localhost:8080/"
        },
        "id": "Ihyr7wIywZ8b",
        "outputId": "3ff51254-9e45-444f-d87b-7cb723fc4956"
      },
      "execution_count": 3,
      "outputs": [
        {
          "output_type": "execute_result",
          "data": {
            "text/plain": [
              "{}"
            ]
          },
          "metadata": {},
          "execution_count": 3
        }
      ]
    },
    {
      "cell_type": "markdown",
      "source": [
        "#2. copy()"
      ],
      "metadata": {
        "id": "S4NroZt3wihW"
      }
    },
    {
      "cell_type": "markdown",
      "source": [
        "#3. fromkeys(iterable, value)\n",
        "Creates a new dictionary with keys from the given iterable and sets all values to the specified value (default is None)."
      ],
      "metadata": {
        "id": "Qn9Fj72CwlxX"
      }
    },
    {
      "cell_type": "code",
      "source": [
        "keys = ['a', 'b', 'c', 'd']"
      ],
      "metadata": {
        "id": "xI-TeV-zwbDE"
      },
      "execution_count": 4,
      "outputs": []
    },
    {
      "cell_type": "code",
      "source": [
        "my_new_dict = dict.fromkeys(keys, 0)"
      ],
      "metadata": {
        "id": "DjWZUsO0xNTR"
      },
      "execution_count": 5,
      "outputs": []
    },
    {
      "cell_type": "code",
      "source": [
        "my_new_dict"
      ],
      "metadata": {
        "colab": {
          "base_uri": "https://localhost:8080/"
        },
        "id": "3nXlu6FxxfPM",
        "outputId": "44dbbe50-c327-4ce8-9213-817a16267f61"
      },
      "execution_count": 6,
      "outputs": [
        {
          "output_type": "execute_result",
          "data": {
            "text/plain": [
              "{'a': 0, 'b': 0, 'c': 0, 'd': 0}"
            ]
          },
          "metadata": {},
          "execution_count": 6
        }
      ]
    },
    {
      "cell_type": "markdown",
      "source": [
        "#4. get(keys, default)\n",
        "Returns the value for the specified key if the key exists; otherwise, returns the default value."
      ],
      "metadata": {
        "id": "W5gPyBs0xtFI"
      }
    },
    {
      "cell_type": "code",
      "source": [
        "my_dict = {'name': 'aarya', 'age': 21}"
      ],
      "metadata": {
        "id": "PkQNh2H1xgtQ"
      },
      "execution_count": 9,
      "outputs": []
    },
    {
      "cell_type": "code",
      "source": [
        "my_dict.get('name')"
      ],
      "metadata": {
        "colab": {
          "base_uri": "https://localhost:8080/",
          "height": 35
        },
        "id": "XLQ5BL2VyFNX",
        "outputId": "9d27499f-4318-41f5-d57e-96966c935eff"
      },
      "execution_count": 10,
      "outputs": [
        {
          "output_type": "execute_result",
          "data": {
            "text/plain": [
              "'aarya'"
            ],
            "application/vnd.google.colaboratory.intrinsic+json": {
              "type": "string"
            }
          },
          "metadata": {},
          "execution_count": 10
        }
      ]
    },
    {
      "cell_type": "code",
      "source": [
        "my_dict.get('age')"
      ],
      "metadata": {
        "colab": {
          "base_uri": "https://localhost:8080/"
        },
        "id": "ZBW4IfMLyia9",
        "outputId": "89c0dee7-62e8-416f-d862-d3e11b46de0b"
      },
      "execution_count": 11,
      "outputs": [
        {
          "output_type": "execute_result",
          "data": {
            "text/plain": [
              "21"
            ]
          },
          "metadata": {},
          "execution_count": 11
        }
      ]
    },
    {
      "cell_type": "code",
      "source": [
        "my_dict.get('gender', 'N/A')"
      ],
      "metadata": {
        "colab": {
          "base_uri": "https://localhost:8080/",
          "height": 35
        },
        "id": "n7-MjgdrynE2",
        "outputId": "f1af70f4-a7fc-486f-d232-df79f875c421"
      },
      "execution_count": 13,
      "outputs": [
        {
          "output_type": "execute_result",
          "data": {
            "text/plain": [
              "'N/A'"
            ],
            "application/vnd.google.colaboratory.intrinsic+json": {
              "type": "string"
            }
          },
          "metadata": {},
          "execution_count": 13
        }
      ]
    },
    {
      "cell_type": "markdown",
      "source": [
        "#5 . keys() &  values()\n",
        "\n"
      ],
      "metadata": {
        "id": "99kLPRj8y4ZG"
      }
    },
    {
      "cell_type": "code",
      "source": [
        "my_dict"
      ],
      "metadata": {
        "colab": {
          "base_uri": "https://localhost:8080/"
        },
        "id": "YCW0pThkysBF",
        "outputId": "52f36854-7566-4c92-e7b7-70641a87b718"
      },
      "execution_count": 14,
      "outputs": [
        {
          "output_type": "execute_result",
          "data": {
            "text/plain": [
              "{'name': 'aarya', 'age': 21}"
            ]
          },
          "metadata": {},
          "execution_count": 14
        }
      ]
    },
    {
      "cell_type": "code",
      "source": [
        "my_dict.keys()"
      ],
      "metadata": {
        "colab": {
          "base_uri": "https://localhost:8080/"
        },
        "id": "B8CVE6ZdzR1a",
        "outputId": "39c0eead-6271-401a-d4b8-557158f1263a"
      },
      "execution_count": 15,
      "outputs": [
        {
          "output_type": "execute_result",
          "data": {
            "text/plain": [
              "dict_keys(['name', 'age'])"
            ]
          },
          "metadata": {},
          "execution_count": 15
        }
      ]
    },
    {
      "cell_type": "code",
      "source": [
        "my_dict.values()"
      ],
      "metadata": {
        "colab": {
          "base_uri": "https://localhost:8080/"
        },
        "id": "-u2ZEymSzVGq",
        "outputId": "e62612cf-3e0a-42b0-b8a0-198b5e60af56"
      },
      "execution_count": 16,
      "outputs": [
        {
          "output_type": "execute_result",
          "data": {
            "text/plain": [
              "dict_values(['aarya', 21])"
            ]
          },
          "metadata": {},
          "execution_count": 16
        }
      ]
    },
    {
      "cell_type": "code",
      "source": [],
      "metadata": {
        "id": "Z6FE0oizzd59"
      },
      "execution_count": null,
      "outputs": []
    }
  ]
}