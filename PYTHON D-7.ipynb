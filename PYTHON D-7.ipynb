{
  "nbformat": 4,
  "nbformat_minor": 0,
  "metadata": {
    "colab": {
      "provenance": []
    },
    "kernelspec": {
      "name": "python3",
      "display_name": "Python 3"
    },
    "language_info": {
      "name": "python"
    }
  },
  "cells": [
    {
      "cell_type": "code",
      "execution_count": null,
      "metadata": {
        "id": "uyvNV_Tr0ypn"
      },
      "outputs": [],
      "source": []
    },
    {
      "cell_type": "markdown",
      "source": [
        "# TYPE CASTING\n",
        "int()\n",
        "float()\n",
        "string()\n",
        "tpl()\n"
      ],
      "metadata": {
        "id": "AW_yL88Z04Gk"
      }
    },
    {
      "cell_type": "markdown",
      "source": [],
      "metadata": {
        "id": "M23xB6UM44su"
      }
    },
    {
      "cell_type": "code",
      "source": [
        "int (5.9)  #float to int"
      ],
      "metadata": {
        "colab": {
          "base_uri": "https://localhost:8080/"
        },
        "id": "Gkq4hbnw09-w",
        "outputId": "ada9ef3e-3db0-4381-f97d-827f45b543a4"
      },
      "execution_count": 1,
      "outputs": [
        {
          "output_type": "execute_result",
          "data": {
            "text/plain": [
              "5"
            ]
          },
          "metadata": {},
          "execution_count": 1
        }
      ]
    },
    {
      "cell_type": "code",
      "source": [
        "int('10')   #string to int"
      ],
      "metadata": {
        "colab": {
          "base_uri": "https://localhost:8080/"
        },
        "id": "GjFZFSgs1CYm",
        "outputId": "52dd908a-24a5-49ef-8011-36f220070985"
      },
      "execution_count": 2,
      "outputs": [
        {
          "output_type": "execute_result",
          "data": {
            "text/plain": [
              "10"
            ]
          },
          "metadata": {},
          "execution_count": 2
        }
      ]
    },
    {
      "cell_type": "code",
      "source": [
        "float (10)    #int to float"
      ],
      "metadata": {
        "colab": {
          "base_uri": "https://localhost:8080/"
        },
        "id": "nfAA3FeP1InN",
        "outputId": "6d5ef535-e3f3-478a-a349-0049e905b2ab"
      },
      "execution_count": 3,
      "outputs": [
        {
          "output_type": "execute_result",
          "data": {
            "text/plain": [
              "10.0"
            ]
          },
          "metadata": {},
          "execution_count": 3
        }
      ]
    },
    {
      "cell_type": "code",
      "source": [
        "float('15.89')   #string to float"
      ],
      "metadata": {
        "colab": {
          "base_uri": "https://localhost:8080/"
        },
        "id": "oYSsIieT1O25",
        "outputId": "71b14f21-8f41-45a8-d856-4bbb00726281"
      },
      "execution_count": 5,
      "outputs": [
        {
          "output_type": "execute_result",
          "data": {
            "text/plain": [
              "15.89"
            ]
          },
          "metadata": {},
          "execution_count": 5
        }
      ]
    },
    {
      "cell_type": "code",
      "source": [
        "str(467)  #int to str"
      ],
      "metadata": {
        "colab": {
          "base_uri": "https://localhost:8080/",
          "height": 35
        },
        "id": "_tmo2oZb1V0z",
        "outputId": "40dd9740-7f9a-4fd9-f37f-35244450f029"
      },
      "execution_count": 6,
      "outputs": [
        {
          "output_type": "execute_result",
          "data": {
            "text/plain": [
              "'467'"
            ],
            "application/vnd.google.colaboratory.intrinsic+json": {
              "type": "string"
            }
          },
          "metadata": {},
          "execution_count": 6
        }
      ]
    },
    {
      "cell_type": "markdown",
      "source": [
        "#LIST OF TYPE CASTING"
      ],
      "metadata": {
        "id": "NXuhp9V51yV8"
      }
    },
    {
      "cell_type": "code",
      "source": [
        "list ('arya')  #string to list"
      ],
      "metadata": {
        "colab": {
          "base_uri": "https://localhost:8080/"
        },
        "id": "9doeFJWF16Q_",
        "outputId": "084aa0f0-f0ef-4a61-f3c5-2a041f838047"
      },
      "execution_count": 8,
      "outputs": [
        {
          "output_type": "execute_result",
          "data": {
            "text/plain": [
              "['a', 'r', 'y', 'a']"
            ]
          },
          "metadata": {},
          "execution_count": 8
        }
      ]
    },
    {
      "cell_type": "code",
      "source": [
        "list((1,2,3,4))    #tuple to list"
      ],
      "metadata": {
        "colab": {
          "base_uri": "https://localhost:8080/"
        },
        "id": "hKd0j0kJ2FCp",
        "outputId": "f450679c-2f71-472b-cc68-a7575ceff94b"
      },
      "execution_count": 9,
      "outputs": [
        {
          "output_type": "execute_result",
          "data": {
            "text/plain": [
              "[1, 2, 3, 4]"
            ]
          },
          "metadata": {},
          "execution_count": 9
        }
      ]
    },
    {
      "cell_type": "code",
      "source": [
        "list({4,5,6,6,7})  #set of list"
      ],
      "metadata": {
        "colab": {
          "base_uri": "https://localhost:8080/"
        },
        "id": "3Bi2V4Yg2Sbf",
        "outputId": "0be7b128-3d2e-46e7-bf64-4d92ad30e94c"
      },
      "execution_count": 10,
      "outputs": [
        {
          "output_type": "execute_result",
          "data": {
            "text/plain": [
              "[4, 5, 6, 7]"
            ]
          },
          "metadata": {},
          "execution_count": 10
        }
      ]
    },
    {
      "cell_type": "code",
      "source": [
        "tuple ([3,4,5])  #list of tuple"
      ],
      "metadata": {
        "colab": {
          "base_uri": "https://localhost:8080/"
        },
        "id": "uCXyRm0S2ZGY",
        "outputId": "77e2270f-8100-48c7-e6a0-7e6d3c1e5fbf"
      },
      "execution_count": 11,
      "outputs": [
        {
          "output_type": "execute_result",
          "data": {
            "text/plain": [
              "(3, 4, 5)"
            ]
          },
          "metadata": {},
          "execution_count": 11
        }
      ]
    },
    {
      "cell_type": "code",
      "source": [
        "tuple ('arya')   #string to tuple"
      ],
      "metadata": {
        "colab": {
          "base_uri": "https://localhost:8080/"
        },
        "id": "vHtFiwiY2hk-",
        "outputId": "cee3812c-51f2-4bd4-9831-deb78d89912c"
      },
      "execution_count": 12,
      "outputs": [
        {
          "output_type": "execute_result",
          "data": {
            "text/plain": [
              "('a', 'r', 'y', 'a')"
            ]
          },
          "metadata": {},
          "execution_count": 12
        }
      ]
    },
    {
      "cell_type": "code",
      "source": [
        "set([1,2,3,4,5])   #list to set"
      ],
      "metadata": {
        "colab": {
          "base_uri": "https://localhost:8080/"
        },
        "id": "7flNqYAk2pHJ",
        "outputId": "18f4f42b-825c-4214-ca6d-2c0ea032c8b9"
      },
      "execution_count": 13,
      "outputs": [
        {
          "output_type": "execute_result",
          "data": {
            "text/plain": [
              "{1, 2, 3, 4, 5}"
            ]
          },
          "metadata": {},
          "execution_count": 13
        }
      ]
    },
    {
      "cell_type": "code",
      "source": [
        "set('arya')   #string to set"
      ],
      "metadata": {
        "colab": {
          "base_uri": "https://localhost:8080/"
        },
        "id": "153uePLv3IVo",
        "outputId": "ea88e85f-1c12-4cf6-b36b-ff6702b7546d"
      },
      "execution_count": 14,
      "outputs": [
        {
          "output_type": "execute_result",
          "data": {
            "text/plain": [
              "{'a', 'r', 'y'}"
            ]
          },
          "metadata": {},
          "execution_count": 14
        }
      ]
    },
    {
      "cell_type": "code",
      "source": [
        "dict([('a',2),  ('b',6)])"
      ],
      "metadata": {
        "colab": {
          "base_uri": "https://localhost:8080/"
        },
        "id": "P-miFud_3Sn2",
        "outputId": "b50aa42e-74b9-40e0-aa47-ac06291884c7"
      },
      "execution_count": 16,
      "outputs": [
        {
          "output_type": "execute_result",
          "data": {
            "text/plain": [
              "{'a': 2, 'b': 6}"
            ]
          },
          "metadata": {},
          "execution_count": 16
        }
      ]
    },
    {
      "cell_type": "code",
      "source": [
        "bool(0)"
      ],
      "metadata": {
        "colab": {
          "base_uri": "https://localhost:8080/"
        },
        "id": "DihR27ix3pDq",
        "outputId": "ab21841c-2d69-49dc-9489-65f227c5a3f8"
      },
      "execution_count": 18,
      "outputs": [
        {
          "output_type": "execute_result",
          "data": {
            "text/plain": [
              "False"
            ]
          },
          "metadata": {},
          "execution_count": 18
        }
      ]
    },
    {
      "cell_type": "code",
      "source": [
        "bool(1)"
      ],
      "metadata": {
        "colab": {
          "base_uri": "https://localhost:8080/"
        },
        "id": "iyftk5J53xE9",
        "outputId": "ee407c77-30ff-449c-dd1a-ef5c0f52af43"
      },
      "execution_count": 19,
      "outputs": [
        {
          "output_type": "execute_result",
          "data": {
            "text/plain": [
              "True"
            ]
          },
          "metadata": {},
          "execution_count": 19
        }
      ]
    },
    {
      "cell_type": "markdown",
      "source": [
        "#KEYWORDS"
      ],
      "metadata": {
        "id": "CxpGZw1s353U"
      }
    },
    {
      "cell_type": "code",
      "source": [
        "import keyword"
      ],
      "metadata": {
        "id": "omr_wBkd3-P8"
      },
      "execution_count": 20,
      "outputs": []
    },
    {
      "cell_type": "code",
      "source": [],
      "metadata": {
        "id": "7BNYbxBD4E2X"
      },
      "execution_count": null,
      "outputs": []
    },
    {
      "cell_type": "code",
      "source": [
        "print(keyword.kwlist)"
      ],
      "metadata": {
        "colab": {
          "base_uri": "https://localhost:8080/"
        },
        "id": "3fTgbJXP32Vb",
        "outputId": "ecb7fc68-0003-4c93-d45b-7acc617d9c35"
      },
      "execution_count": 24,
      "outputs": [
        {
          "output_type": "stream",
          "name": "stdout",
          "text": [
            "['False', 'None', 'True', 'and', 'as', 'assert', 'async', 'await', 'break', 'class', 'continue', 'def', 'del', 'elif', 'else', 'except', 'finally', 'for', 'from', 'global', 'if', 'import', 'in', 'is', 'lambda', 'nonlocal', 'not', 'or', 'pass', 'raise', 'return', 'try', 'while', 'with', 'yield']\n"
          ]
        }
      ]
    },
    {
      "cell_type": "markdown",
      "source": [
        "# DATA TYPES\n",
        "BUILT IN DATA TYPES: int,float,str,bool,complex\n",
        "DATA STRUCTURE: list,tuple,set,dictionary\n",
        "\n"
      ],
      "metadata": {
        "id": "bu84Wg2u6xq3"
      }
    },
    {
      "cell_type": "code",
      "source": [],
      "metadata": {
        "id": "KohhH8tN7f6T"
      },
      "execution_count": null,
      "outputs": []
    },
    {
      "cell_type": "markdown",
      "source": [
        "# INPUT AND OUTPUT\n",
        "Taking input input() function\n",
        "Printing output print() function with formating"
      ],
      "metadata": {
        "id": "RdG93yZ15Moc"
      }
    },
    {
      "cell_type": "code",
      "source": [
        "name ='Dream with Data'"
      ],
      "metadata": {
        "id": "iLks6hnz5e3J"
      },
      "execution_count": 28,
      "outputs": []
    },
    {
      "cell_type": "code",
      "source": [
        "print('Welcome to :-' , name)"
      ],
      "metadata": {
        "colab": {
          "base_uri": "https://localhost:8080/"
        },
        "id": "N0WcDFbB5vdo",
        "outputId": "04d9f80a-ebf4-488a-eee9-9aea667ba84e"
      },
      "execution_count": 29,
      "outputs": [
        {
          "output_type": "stream",
          "name": "stdout",
          "text": [
            "Welcome to :- Dream with Data\n"
          ]
        }
      ]
    },
    {
      "cell_type": "code",
      "source": [
        "st1 ='arya'"
      ],
      "metadata": {
        "id": "xWqaEBza6HM4"
      },
      "execution_count": 30,
      "outputs": []
    },
    {
      "cell_type": "code",
      "source": [
        "st2 ='govardhan'"
      ],
      "metadata": {
        "id": "VxfmpvUe6UZF"
      },
      "execution_count": 31,
      "outputs": []
    },
    {
      "cell_type": "code",
      "source": [
        "#arya and govardhan welcome to dream with data\n",
        "print(f'{st1} and {st2} welcome to {name}')"
      ],
      "metadata": {
        "colab": {
          "base_uri": "https://localhost:8080/"
        },
        "id": "w5IZFsJB6XNs",
        "outputId": "07901353-f2c0-4881-a330-845aeaece267"
      },
      "execution_count": 32,
      "outputs": [
        {
          "output_type": "stream",
          "name": "stdout",
          "text": [
            "arya and govardhan welcome to Dream with Data\n"
          ]
        }
      ]
    },
    {
      "cell_type": "markdown",
      "source": [
        "#3 OPERATOR\n",
        "ARITHMATIC\n",
        "COMPARISON\n",
        "LOGICAL\n",
        "BITWISE\n",
        "ASSIGNMENT"
      ],
      "metadata": {
        "id": "tOAHq6Om7FXR"
      }
    },
    {
      "cell_type": "code",
      "source": [],
      "metadata": {
        "id": "Wf52ZVMC6q4s"
      },
      "execution_count": null,
      "outputs": []
    }
  ]
}