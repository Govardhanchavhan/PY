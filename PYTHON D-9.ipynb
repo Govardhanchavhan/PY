{
  "nbformat": 4,
  "nbformat_minor": 0,
  "metadata": {
    "colab": {
      "provenance": []
    },
    "kernelspec": {
      "name": "python3",
      "display_name": "Python 3"
    },
    "language_info": {
      "name": "python"
    }
  },
  "cells": [
    {
      "cell_type": "markdown",
      "source": [
        "# ASSIGNMENT QUESTIONS\n",
        "QUE1:- Which operator would you use to find the remainder when dividing two number?\n",
        "QUE2:- Write an expression to calculate the cube of a number using the ** operator?\n",
        "QUE3:- What does the += operator do in Python? Explain with an example.\n",
        "QUE4:- How do you check if two variables a and b are not equal using a comparison operator?\n",
        "QUE5:- Which logical operator is used to check if two conditions are both True?\n",
        "QUE6:- What is the difference between the and and or logical operator?\n",
        "QUE7:- Which operator would you use to invert the result of a boolean expression?\n",
        "QUE8:- What is the result of using the & (bitwise AND) operator on the number 6 & 3?\n",
        "QUE9:- How does the left shift operator (<<) modify the value of a number?\n",
        "QUE10:- Write a Python expression to check if a number is divided by either 2 or 7 using a logical operator?\n"
      ],
      "metadata": {
        "id": "yj0hbr8xxjRJ"
      }
    },
    {
      "cell_type": "markdown",
      "source": [
        "QUE: Which operate would you use to find the remainder when dividing two number?"
      ],
      "metadata": {
        "id": "oSDvV9yMsw2A"
      }
    },
    {
      "cell_type": "code",
      "execution_count": null,
      "metadata": {
        "id": "jKv-yz_ZuhUb",
        "colab": {
          "base_uri": "https://localhost:8080/"
        },
        "outputId": "fc0ef18e-43df-47ba-cfeb-98f84d365054"
      },
      "outputs": [
        {
          "output_type": "execute_result",
          "data": {
            "text/plain": [
              "1"
            ]
          },
          "metadata": {},
          "execution_count": 1
        }
      ],
      "source": [
        " 10%3"
      ]
    },
    {
      "cell_type": "code",
      "source": [
        "10%3"
      ],
      "metadata": {
        "colab": {
          "base_uri": "https://localhost:8080/"
        },
        "id": "v4G50pC8vK_7",
        "outputId": "e8c82348-b748-4547-adbd-01b7039d3b07"
      },
      "execution_count": null,
      "outputs": [
        {
          "output_type": "execute_result",
          "data": {
            "text/plain": [
              "1"
            ]
          },
          "metadata": {},
          "execution_count": 2
        }
      ]
    },
    {
      "cell_type": "markdown",
      "source": [
        "QUE: Write an expression to calculate the cube of a number using the ** operator?"
      ],
      "metadata": {
        "id": "yRasv1XpthpA"
      }
    },
    {
      "cell_type": "code",
      "source": [
        " 4**3"
      ],
      "metadata": {
        "id": "3cuYZEdBvNlm",
        "colab": {
          "base_uri": "https://localhost:8080/"
        },
        "outputId": "377c2fb9-1d38-4399-be2c-dfc7c0978f8a"
      },
      "execution_count": null,
      "outputs": [
        {
          "output_type": "execute_result",
          "data": {
            "text/plain": [
              "64"
            ]
          },
          "metadata": {},
          "execution_count": 3
        }
      ]
    },
    {
      "cell_type": "markdown",
      "source": [
        "QUE: What does the += operator do in Python? Explain with an example.\n"
      ],
      "metadata": {
        "id": "zRsoIB0Zt7Gl"
      }
    },
    {
      "cell_type": "code",
      "source": [
        "num =5"
      ],
      "metadata": {
        "id": "iQrvJppevUmq"
      },
      "execution_count": null,
      "outputs": []
    },
    {
      "cell_type": "code",
      "source": [
        "num =num+1"
      ],
      "metadata": {
        "id": "Q3c-2xRfv0-c"
      },
      "execution_count": null,
      "outputs": []
    },
    {
      "cell_type": "code",
      "source": [
        "num"
      ],
      "metadata": {
        "colab": {
          "base_uri": "https://localhost:8080/"
        },
        "id": "EsF7ralyv2vN",
        "outputId": "5cefb8b0-b218-4a14-cf1b-1fecf6cffe17"
      },
      "execution_count": null,
      "outputs": [
        {
          "output_type": "execute_result",
          "data": {
            "text/plain": [
              "6"
            ]
          },
          "metadata": {},
          "execution_count": 6
        }
      ]
    },
    {
      "cell_type": "code",
      "source": [
        "num +=1"
      ],
      "metadata": {
        "id": "wdoixwsMv34I"
      },
      "execution_count": null,
      "outputs": []
    },
    {
      "cell_type": "code",
      "source": [
        "num"
      ],
      "metadata": {
        "colab": {
          "base_uri": "https://localhost:8080/"
        },
        "id": "3d_GJyBhv6yO",
        "outputId": "a29a8040-c4b4-4f11-a05a-8a289e9c1488"
      },
      "execution_count": null,
      "outputs": [
        {
          "output_type": "execute_result",
          "data": {
            "text/plain": [
              "7"
            ]
          },
          "metadata": {},
          "execution_count": 8
        }
      ]
    },
    {
      "cell_type": "markdown",
      "source": [
        "QUE: How do you check if two variable a and b are not equal using a comaprison operator?\n"
      ],
      "metadata": {
        "id": "q7dPnQm3uPjx"
      }
    },
    {
      "cell_type": "code",
      "source": [
        " a , b =7 ,10"
      ],
      "metadata": {
        "id": "9wEQgNM1v8F7"
      },
      "execution_count": null,
      "outputs": []
    },
    {
      "cell_type": "code",
      "source": [
        "a"
      ],
      "metadata": {
        "colab": {
          "base_uri": "https://localhost:8080/"
        },
        "id": "1Xxus3cNwA0y",
        "outputId": "9f3a7e30-13d0-4d85-fe95-2ddb57d74eb9"
      },
      "execution_count": null,
      "outputs": [
        {
          "output_type": "execute_result",
          "data": {
            "text/plain": [
              "7"
            ]
          },
          "metadata": {},
          "execution_count": 11
        }
      ]
    },
    {
      "cell_type": "code",
      "source": [
        "b"
      ],
      "metadata": {
        "colab": {
          "base_uri": "https://localhost:8080/"
        },
        "id": "hkCWr7pzwCbw",
        "outputId": "c5263182-78ed-4ce0-b3d8-c8752a6786f2"
      },
      "execution_count": null,
      "outputs": [
        {
          "output_type": "execute_result",
          "data": {
            "text/plain": [
              "10"
            ]
          },
          "metadata": {},
          "execution_count": 12
        }
      ]
    },
    {
      "cell_type": "markdown",
      "source": [
        "QUE: Which logical operator is used to check if two condition are both True?"
      ],
      "metadata": {
        "id": "sOXLxIOYuwkl"
      }
    },
    {
      "cell_type": "code",
      "source": [
        "a!= b"
      ],
      "metadata": {
        "colab": {
          "base_uri": "https://localhost:8080/"
        },
        "id": "XhrwuSWZwJ8j",
        "outputId": "ea2ac596-e43d-4b0a-d3bc-1f1baf0cf27d"
      },
      "execution_count": null,
      "outputs": [
        {
          "output_type": "execute_result",
          "data": {
            "text/plain": [
              "True"
            ]
          },
          "metadata": {},
          "execution_count": 13
        }
      ]
    },
    {
      "cell_type": "markdown",
      "source": [
        "QUE: What is the difference between the and and or logical operator?\n"
      ],
      "metadata": {
        "id": "ai88_nVkvC8B"
      }
    },
    {
      "cell_type": "code",
      "source": [
        "(a> 5) and (b> 5)"
      ],
      "metadata": {
        "colab": {
          "base_uri": "https://localhost:8080/"
        },
        "id": "Y5yGDkr2wNKL",
        "outputId": "68f8e204-8ec2-44cb-afd3-0c7721c066ac"
      },
      "execution_count": null,
      "outputs": [
        {
          "output_type": "execute_result",
          "data": {
            "text/plain": [
              "True"
            ]
          },
          "metadata": {},
          "execution_count": 15
        }
      ]
    },
    {
      "cell_type": "markdown",
      "source": [
        "QUE: Which operator would you use to invert the result of a boolean expression?\n",
        "\n",
        "\n",
        "\n"
      ],
      "metadata": {
        "id": "NOKzyLXcvuZc"
      }
    },
    {
      "cell_type": "code",
      "source": [
        "(a> 5) and (b>5)  #both condition must be true\n",
        "(a> 5) or (b> 5)   #any one condition must be true"
      ],
      "metadata": {
        "colab": {
          "base_uri": "https://localhost:8080/"
        },
        "id": "3-Udwhjrwd5C",
        "outputId": "92bf2938-3348-4471-99ae-7b380b325592"
      },
      "execution_count": null,
      "outputs": [
        {
          "output_type": "execute_result",
          "data": {
            "text/plain": [
              "True"
            ]
          },
          "metadata": {},
          "execution_count": 27
        }
      ]
    },
    {
      "cell_type": "code",
      "source": [
        "not True"
      ],
      "metadata": {
        "colab": {
          "base_uri": "https://localhost:8080/"
        },
        "id": "0U-p8eP9w31g",
        "outputId": "d514e72e-33ce-43ce-ae62-4a24c1497fa9"
      },
      "execution_count": null,
      "outputs": [
        {
          "output_type": "execute_result",
          "data": {
            "text/plain": [
              "False"
            ]
          },
          "metadata": {},
          "execution_count": 29
        }
      ]
    },
    {
      "cell_type": "markdown",
      "source": [
        "QUE: Which is the result of using the & (bitwise AND) operator on the number 6 and 3?"
      ],
      "metadata": {
        "id": "1BB68edZxCq8"
      }
    },
    {
      "cell_type": "code",
      "source": [
        "6  &  3  (110 011)"
      ],
      "metadata": {
        "colab": {
          "base_uri": "https://localhost:8080/",
          "height": 106
        },
        "id": "zt8S3od9w5pz",
        "outputId": "6f154f78-666c-4a0f-eaf2-02feef781eb1"
      },
      "execution_count": null,
      "outputs": [
        {
          "output_type": "error",
          "ename": "SyntaxError",
          "evalue": "leading zeros in decimal integer literals are not permitted; use an 0o prefix for octal integers (<ipython-input-19-8699dbb0da66>, line 1)",
          "traceback": [
            "\u001b[0;36m  File \u001b[0;32m\"<ipython-input-19-8699dbb0da66>\"\u001b[0;36m, line \u001b[0;32m1\u001b[0m\n\u001b[0;31m    6  &  3  (110 011)\u001b[0m\n\u001b[0m                  ^\u001b[0m\n\u001b[0;31mSyntaxError\u001b[0m\u001b[0;31m:\u001b[0m leading zeros in decimal integer literals are not permitted; use an 0o prefix for octal integers\n"
          ]
        }
      ]
    },
    {
      "cell_type": "markdown",
      "source": [
        "QUE: How does the left shift operator (<<) modify the value of a number ?"
      ],
      "metadata": {
        "id": "Vs-mLgJRxh_h"
      }
    },
    {
      "cell_type": "code",
      "source": [
        "3<< 1"
      ],
      "metadata": {
        "colab": {
          "base_uri": "https://localhost:8080/"
        },
        "id": "FemGYmu0xUbx",
        "outputId": "92c2a372-3f6c-431b-8dae-6ede3cd11427"
      },
      "execution_count": null,
      "outputs": [
        {
          "output_type": "execute_result",
          "data": {
            "text/plain": [
              "6"
            ]
          },
          "metadata": {},
          "execution_count": 20
        }
      ]
    },
    {
      "cell_type": "markdown",
      "source": [
        "QUE: Write a Python expression to check if a number is divisible by either 2 or 7 using a logical operator."
      ],
      "metadata": {
        "id": "UgnNYLHoxzQL"
      }
    },
    {
      "cell_type": "code",
      "source": [
        "number = 14\n",
        "(number % 2== 0) or (number % 7== 0)"
      ],
      "metadata": {
        "colab": {
          "base_uri": "https://localhost:8080/"
        },
        "id": "FUavJh5uxuaK",
        "outputId": "fc8bb0d7-5cce-4e91-b254-6a51f3fcb921"
      },
      "execution_count": null,
      "outputs": [
        {
          "output_type": "execute_result",
          "data": {
            "text/plain": [
              "True"
            ]
          },
          "metadata": {},
          "execution_count": 32
        }
      ]
    }
  ]
}